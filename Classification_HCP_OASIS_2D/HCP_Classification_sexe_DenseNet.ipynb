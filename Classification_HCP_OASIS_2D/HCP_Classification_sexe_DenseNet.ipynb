{
 "cells": [
  {
   "cell_type": "code",
   "execution_count": null,
   "metadata": {},
   "outputs": [],
   "source": [
    "import tensorflow as tf\n",
    "from tensorflow import keras\n",
    "import numpy as np\n",
    "import time"
   ]
  },
  {
   "cell_type": "code",
   "execution_count": null,
   "metadata": {
    "scrolled": true
   },
   "outputs": [],
   "source": [
    "print(\"Num GPUs Available: \", len(tf.config.experimental.list_physical_devices('GPU')))"
   ]
  },
  {
   "cell_type": "markdown",
   "metadata": {},
   "source": [
    "# Séparation des images en ensembles d'entraînement, validation et test"
   ]
  },
  {
   "cell_type": "code",
   "execution_count": null,
   "metadata": {},
   "outputs": [],
   "source": [
    "import os, shutil \n",
    "\n",
    "original_dataset_dir= 'D:/Documents/SYS866_Projet_Final/Grad-CAM/HCP_SYS866_2020/'\n",
    "\n",
    "base_dir='D:/Documents/SYS866_Projet_Final/Grad-CAM/cerveaux_resnet/'\n",
    "if not os.path.exists(base_dir):\n",
    "    os.mkdir(base_dir)\n",
    "    \n",
    "train_dir=os.path.join(base_dir,'train/')\n",
    "if not os.path.exists(train_dir):\n",
    "    os.mkdir(train_dir)\n",
    "    \n",
    "validation_dir=os.path.join(base_dir,'validation/')\n",
    "if not os.path.exists(validation_dir):\n",
    "    os.mkdir(validation_dir)\n",
    "    \n",
    "test_dir=os.path.join(base_dir,'test/')\n",
    "if not os.path.exists(test_dir):\n",
    "    os.mkdir(test_dir)"
   ]
  },
  {
   "cell_type": "code",
   "execution_count": null,
   "metadata": {},
   "outputs": [],
   "source": [
    "train_homme_dir=os.path.join(train_dir,'homme')\n",
    "if not os.path.exists(train_homme_dir):\n",
    "    os.mkdir(train_homme_dir)\n",
    "\n",
    "train_femme_dir = os.path.join(train_dir, 'femme')\n",
    "if not os.path.exists(train_femme_dir):\n",
    "    os.mkdir(train_femme_dir)\n",
    "    \n",
    "validation_homme_dir=os.path.join(validation_dir,'homme')\n",
    "if not os.path.exists(validation_homme_dir):\n",
    "    os.mkdir(validation_homme_dir)\n",
    "\n",
    "validation_femme_dir = os.path.join(validation_dir, 'femme')\n",
    "if not os.path.exists(validation_femme_dir):\n",
    "    os.mkdir(validation_femme_dir)\n",
    "    \n",
    "test_homme_dir=os.path.join(test_dir,'homme')\n",
    "if not os.path.exists(test_homme_dir):\n",
    "    os.mkdir(test_homme_dir)\n",
    "\n",
    "test_femme_dir = os.path.join(test_dir, 'femme')\n",
    "if not os.path.exists(test_femme_dir):\n",
    "    os.mkdir(test_femme_dir)"
   ]
  },
  {
   "cell_type": "code",
   "execution_count": null,
   "metadata": {},
   "outputs": [],
   "source": [
    "file= open('D:/Documents/SYS866_Projet_Final/Grad-CAM/labels.csv','r')\n",
    "\n",
    "ligne= file.readlines()\n",
    "\n",
    "file.close()"
   ]
  },
  {
   "cell_type": "code",
   "execution_count": null,
   "metadata": {},
   "outputs": [],
   "source": [
    "nom=[]\n",
    "sexe=[]\n",
    "\n",
    "\n",
    "for i in range (2,len(ligne)):\n",
    "    \n",
    "    li=str(ligne[i]).rstrip('\\n')\n",
    "    liste=li.split(',')\n",
    "    nom.append(liste[0])\n",
    "    sexe.append(liste[8])\n",
    "    \n",
    "print(len(nom))\n",
    "print(len(sexe))"
   ]
  },
  {
   "cell_type": "code",
   "execution_count": null,
   "metadata": {},
   "outputs": [],
   "source": [
    "# Ajout d'images au dossier d'entrainement\n",
    "for i in range(0, 850):\n",
    "    fname='img'+nom[i]+'_T1w.png'\n",
    "    src= os.path.join(original_dataset_dir, fname)\n",
    "    if os.path.isfile(src)==True:\n",
    "        if sexe[i]=='1':\n",
    "            src= os.path.join(original_dataset_dir, fname)\n",
    "            dst=os.path.join(train_homme_dir, fname)\n",
    "            shutil.copyfile(src, dst)\n",
    "        else:\n",
    "            src= os.path.join(original_dataset_dir, fname)\n",
    "            dst=os.path.join(train_femme_dir, fname)\n",
    "            shutil.copyfile(src, dst)"
   ]
  },
  {
   "cell_type": "code",
   "execution_count": null,
   "metadata": {},
   "outputs": [],
   "source": [
    "# Ajout d'images au dossier de validation\n",
    "for i in range(850, 1050):\n",
    "    fname='img'+nom[i]+'_T1w.png'\n",
    "    src= os.path.join(original_dataset_dir, fname)\n",
    "    if os.path.isfile(src)==True:\n",
    "        if sexe[i]=='1':\n",
    "            src= os.path.join(original_dataset_dir, fname)\n",
    "            dst=os.path.join(validation_homme_dir, fname)\n",
    "            shutil.copyfile(src, dst)\n",
    "        else:\n",
    "            src= os.path.join(original_dataset_dir, fname)\n",
    "            dst=os.path.join(validation_femme_dir, fname)\n",
    "            shutil.copyfile(src, dst)"
   ]
  },
  {
   "cell_type": "code",
   "execution_count": null,
   "metadata": {},
   "outputs": [],
   "source": [
    "# Ajout d'images au dossier de test\n",
    "for i in range(1050, 1205):\n",
    "    fname='img'+nom[i]+'_T1w.png'\n",
    "    src= os.path.join(original_dataset_dir, fname)\n",
    "    if os.path.isfile(src)==True:\n",
    "        if sexe[i]=='1':\n",
    "            src= os.path.join(original_dataset_dir, fname)\n",
    "            dst=os.path.join(test_homme_dir, fname)\n",
    "            shutil.copyfile(src, dst)\n",
    "        else:\n",
    "            src= os.path.join(original_dataset_dir, fname)\n",
    "            dst=os.path.join(test_femme_dir, fname)\n",
    "            shutil.copyfile(src, dst)"
   ]
  },
  {
   "cell_type": "code",
   "execution_count": null,
   "metadata": {},
   "outputs": [],
   "source": [
    "from tensorflow.keras.preprocessing.image import ImageDataGenerator"
   ]
  },
  {
   "cell_type": "code",
   "execution_count": null,
   "metadata": {},
   "outputs": [],
   "source": [
    "train_datagen = ImageDataGenerator(\n",
    "        rescale=1./255,\n",
    "        shear_range=0.2,\n",
    "        zoom_range=0.2,\n",
    "        horizontal_flip=True,\n",
    "        rotation_range=5)\n",
    "\n",
    "validation_datagen = ImageDataGenerator(rescale=1./255)\n",
    "test_datagen = ImageDataGenerator(rescale=1./255)"
   ]
  },
  {
   "cell_type": "code",
   "execution_count": null,
   "metadata": {
    "scrolled": false
   },
   "outputs": [],
   "source": [
    "image_size = (150, 180)\n",
    "batch_size = 16\n",
    "\n",
    "training_set = train_datagen.flow_from_directory(\n",
    "    \"cerveaux_resnet/train\",\n",
    "    target_size=(image_size),\n",
    "    batch_size=batch_size,\n",
    "    class_mode='categorical'\n",
    ")"
   ]
  },
  {
   "cell_type": "code",
   "execution_count": null,
   "metadata": {},
   "outputs": [],
   "source": [
    "validation_set = validation_datagen.flow_from_directory(\n",
    "    \"cerveaux_resnet/validation\",\n",
    "    target_size=image_size,\n",
    "    batch_size=batch_size,\n",
    "    class_mode='categorical'\n",
    ")"
   ]
  },
  {
   "cell_type": "code",
   "execution_count": null,
   "metadata": {
    "scrolled": true
   },
   "outputs": [],
   "source": [
    "test_datagen = ImageDataGenerator(rescale=1./255)\n",
    "\n",
    "test_set = test_datagen.flow_from_directory(\n",
    "    \"cerveaux_resnet/test\",\n",
    "    target_size=image_size,\n",
    "    batch_size=batch_size,\n",
    "    class_mode='categorical',\n",
    "    shuffle = False\n",
    ")"
   ]
  },
  {
   "cell_type": "markdown",
   "metadata": {},
   "source": [
    "## Définition du modèle"
   ]
  },
  {
   "cell_type": "code",
   "execution_count": null,
   "metadata": {},
   "outputs": [],
   "source": [
    "densenet = tf.keras.applications.DenseNet201(\n",
    "    include_top=False,\n",
    "    weights=\"imagenet\",\n",
    "    input_tensor=None,\n",
    "    input_shape=(150,150,3),\n",
    "    pooling=None,\n",
    "    classes=1000,\n",
    ")"
   ]
  },
  {
   "cell_type": "code",
   "execution_count": null,
   "metadata": {},
   "outputs": [],
   "source": [
    "from tensorflow.keras.layers import Dense, GlobalAveragePooling2D\n",
    "from tensorflow.keras.models import Model\n",
    "\n",
    "# add a global spatial average pooling layer\n",
    "x = densenet.output\n",
    "x = GlobalAveragePooling2D()(x)\n",
    "x = Dense(1024, activation='relu')(x)\n",
    "predictions = Dense(2, activation='softmax')(x)"
   ]
  },
  {
   "cell_type": "code",
   "execution_count": null,
   "metadata": {},
   "outputs": [],
   "source": [
    "# this is the model we will train\n",
    "densenet_model = Model(inputs=densenet.input, outputs=predictions)"
   ]
  },
  {
   "cell_type": "code",
   "execution_count": null,
   "metadata": {},
   "outputs": [],
   "source": [
    "# first: train only the top layers (which were randomly initialized)\n",
    "# i.e. freeze all convolutional Densenet layers\n",
    "for layer in densenet.layers:\n",
    "    layer.trainable = False"
   ]
  },
  {
   "cell_type": "markdown",
   "metadata": {},
   "source": [
    "# Entraînement du modèle"
   ]
  },
  {
   "cell_type": "code",
   "execution_count": null,
   "metadata": {},
   "outputs": [],
   "source": [
    "densenet_model.compile(optimizer='adam', loss='categorical_crossentropy', metrics=['accuracy'])"
   ]
  },
  {
   "cell_type": "code",
   "execution_count": null,
   "metadata": {
    "scrolled": true
   },
   "outputs": [],
   "source": [
    "start_time = time.time()\n",
    "\n",
    "history = densenet_model.fit(x = training_set, validation_data=validation_set, shuffle=True, epochs=21)\n",
    "\n",
    "print(time.time() - start_time)"
   ]
  },
  {
   "cell_type": "markdown",
   "metadata": {},
   "source": [
    "# Séparation des images en ensembles d'entraînement, validation et test"
   ]
  },
  {
   "cell_type": "code",
   "execution_count": null,
   "metadata": {},
   "outputs": [],
   "source": [
    "import matplotlib.pyplot as plt\n",
    "\n",
    "acc= history.history['accuracy']\n",
    "val_acc = history.history['val_accuracy']\n",
    "loss= history.history['loss']\n",
    "val_loss= history.history['val_loss']\n",
    "\n",
    "epochs= range(1, len(acc)+1)\n",
    "\n",
    "plt.plot(epochs, acc, 'bo', label='entrainement')\n",
    "plt.plot(epochs, val_acc,'b', label='validation')\n",
    "plt.title('Exactitude pendant l\\'entrainement et la validation')\n",
    "plt.legend()\n",
    "\n",
    "plt.figure()\n",
    "plt.plot(epochs, loss, 'bo', label='entrainement')\n",
    "plt.plot(epochs, val_loss, 'b', label='validation')\n",
    "plt.title('Perte pendant l\\'entrainement et la validation')\n",
    "plt.legend()\n",
    "plt.show()"
   ]
  },
  {
   "cell_type": "code",
   "execution_count": null,
   "metadata": {},
   "outputs": [],
   "source": [
    "test_loss, test_acc= densenet_model.evaluate(test_set)"
   ]
  },
  {
   "cell_type": "code",
   "execution_count": null,
   "metadata": {},
   "outputs": [],
   "source": []
  },
  {
   "cell_type": "code",
   "execution_count": null,
   "metadata": {},
   "outputs": [],
   "source": [
    "y_true_labels = test_set.classes\n",
    "true_labels = []\n",
    "\n",
    "for label in y_true_labels:\n",
    "    true_labels.append(np.array([np.float32(label)]))"
   ]
  },
  {
   "cell_type": "code",
   "execution_count": null,
   "metadata": {},
   "outputs": [],
   "source": [
    "preds = densenet_model.predict(test_set)"
   ]
  },
  {
   "cell_type": "code",
   "execution_count": null,
   "metadata": {},
   "outputs": [],
   "source": [
    "from sklearn.metrics import roc_curve, auc"
   ]
  },
  {
   "cell_type": "code",
   "execution_count": null,
   "metadata": {},
   "outputs": [],
   "source": [
    "predictions = []\n",
    "\n",
    "for x in preds.tolist():\n",
    "    predictions.append(x[1])"
   ]
  },
  {
   "cell_type": "code",
   "execution_count": null,
   "metadata": {},
   "outputs": [],
   "source": [
    "fpr, tpr, _ = roc_curve(true_labels, predictions)\n",
    "auc = auc(fpr, tpr)"
   ]
  },
  {
   "cell_type": "code",
   "execution_count": null,
   "metadata": {},
   "outputs": [],
   "source": [
    "plt.figure(1)\n",
    "plt.plot([0, 1], [0, 1], 'k--')\n",
    "plt.plot(fpr, tpr, label='AUC = {:.3f}'.format(auc))\n",
    "plt.xlabel('False positive rate')\n",
    "plt.ylabel('True positive rate')\n",
    "plt.title('ROC curve')\n",
    "plt.legend(loc='best')\n",
    "plt.show()"
   ]
  },
  {
   "cell_type": "markdown",
   "metadata": {},
   "source": [
    "## Enregistrement du modèle"
   ]
  },
  {
   "cell_type": "code",
   "execution_count": null,
   "metadata": {},
   "outputs": [],
   "source": [
    "densenet_model.save('D:/Documents/SYS866_Projet_Final/Grad-CAM/models/densenet_adam__categorical')"
   ]
  },
  {
   "cell_type": "markdown",
   "metadata": {},
   "source": [
    "### Chargement du modèle"
   ]
  },
  {
   "cell_type": "code",
   "execution_count": null,
   "metadata": {},
   "outputs": [],
   "source": [
    "import tensorflow as tf\n",
    "from tensorflow import keras\n",
    "import numpy as np\n",
    "import matplotlib.pyplot as plt\n",
    "\n",
    "densenet_model = keras.models.load_model('D:/Documents/SYS866_Projet_Final/Grad-CAM/models/densenet_adam__categorical')"
   ]
  },
  {
   "cell_type": "code",
   "execution_count": null,
   "metadata": {},
   "outputs": [],
   "source": []
  }
 ],
 "metadata": {
  "kernelspec": {
   "display_name": "Python 3",
   "language": "python",
   "name": "python3"
  },
  "language_info": {
   "codemirror_mode": {
    "name": "ipython",
    "version": 3
   },
   "file_extension": ".py",
   "mimetype": "text/x-python",
   "name": "python",
   "nbconvert_exporter": "python",
   "pygments_lexer": "ipython3",
   "version": "3.7.4"
  }
 },
 "nbformat": 4,
 "nbformat_minor": 4
}
