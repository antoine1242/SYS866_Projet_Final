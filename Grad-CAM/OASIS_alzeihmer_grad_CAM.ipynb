{
 "cells": [
  {
   "cell_type": "code",
   "execution_count": 18,
   "metadata": {},
   "outputs": [],
   "source": [
    "import tensorflow as tf\n",
    "from tensorflow import keras\n",
    "import numpy as np\n",
    "np.random.seed(666)\n",
    "import time\n",
    "\n",
    "physical_devices = tf.config.list_physical_devices('GPU')\n",
    "\n",
    "tf.config.experimental.set_memory_growth(physical_devices[0], True)"
   ]
  },
  {
   "cell_type": "code",
   "execution_count": 2,
   "metadata": {},
   "outputs": [
    {
     "name": "stdout",
     "output_type": "stream",
     "text": [
      "Num GPUs Available:  1\n"
     ]
    }
   ],
   "source": [
    "print(\"Num GPUs Available: \", len(tf.config.experimental.list_physical_devices('GPU')))"
   ]
  },
  {
   "cell_type": "code",
   "execution_count": 3,
   "metadata": {},
   "outputs": [],
   "source": [
    "import os, shutil \n",
    "\n",
    "original_dataset_dir= 'D:/Documents/Grad-CAM/oasis_brain_no_nn_slices/X/'\n",
    "\n",
    "base_dir='D:/Documents/Grad-CAM/oasis_alzheimer_both/'\n",
    "if not os.path.exists(base_dir):\n",
    "    os.mkdir(base_dir)\n",
    "    \n",
    "train_dir=os.path.join(base_dir,'train/')\n",
    "if not os.path.exists(train_dir):\n",
    "    os.mkdir(train_dir)\n",
    "    \n",
    "validation_dir=os.path.join(base_dir,'validation/')\n",
    "if not os.path.exists(validation_dir):\n",
    "    os.mkdir(validation_dir)\n",
    "    \n",
    "test_dir=os.path.join(base_dir,'test/')\n",
    "if not os.path.exists(test_dir):\n",
    "    os.mkdir(test_dir)"
   ]
  },
  {
   "cell_type": "code",
   "execution_count": 4,
   "metadata": {},
   "outputs": [],
   "source": [
    "train_alzheimer_dir=os.path.join(train_dir,'Alzheimer')\n",
    "if not os.path.exists(train_alzheimer_dir):\n",
    "    os.mkdir(train_alzheimer_dir)\n",
    "\n",
    "train_healthy_dir = os.path.join(train_dir, 'Healthy')\n",
    "if not os.path.exists(train_healthy_dir):\n",
    "    os.mkdir(train_healthy_dir)\n",
    "    \n",
    "validation_alzheimer_dir=os.path.join(validation_dir,'Alzheimer')\n",
    "if not os.path.exists(validation_alzheimer_dir):\n",
    "    os.mkdir(validation_alzheimer_dir)\n",
    "\n",
    "validation_healthy_dir = os.path.join(validation_dir, 'Healthy')\n",
    "if not os.path.exists(validation_healthy_dir):\n",
    "    os.mkdir(validation_healthy_dir)\n",
    "    \n",
    "test_alzheimer_dir=os.path.join(test_dir,'Alzheimer')\n",
    "if not os.path.exists(test_alzheimer_dir):\n",
    "    os.mkdir(test_alzheimer_dir)\n",
    "\n",
    "test_healthy_dir = os.path.join(test_dir, 'Healthy')\n",
    "if not os.path.exists(test_healthy_dir):\n",
    "    os.mkdir(test_healthy_dir)"
   ]
  },
  {
   "cell_type": "code",
   "execution_count": 5,
   "metadata": {},
   "outputs": [],
   "source": [
    "file= open('D:/Documents/Grad-CAM/oasis_cross-sectional_labels.csv','r')\n",
    "\n",
    "ligne= file.readlines()\n",
    "\n",
    "file.close()"
   ]
  },
  {
   "cell_type": "code",
   "execution_count": 6,
   "metadata": {},
   "outputs": [
    {
     "name": "stdout",
     "output_type": "stream",
     "text": [
      "235\n",
      "235\n"
     ]
    }
   ],
   "source": [
    "noms = []\n",
    "alzheimer = []\n",
    "\n",
    "\n",
    "for i in range (1,len(ligne)):\n",
    "    li=str(ligne[i]).rstrip('\\n')\n",
    "    liste=li.split(',')\n",
    "    \n",
    "    if liste[7] != \"\":\n",
    "        noms.append(liste[0])\n",
    "        if liste[7] == \"0\":\n",
    "            alzheimer.append(0)\n",
    "        else:\n",
    "            alzheimer.append(1)\n",
    "\n",
    "print(len(noms))\n",
    "print(len(alzheimer))"
   ]
  },
  {
   "cell_type": "code",
   "execution_count": 7,
   "metadata": {},
   "outputs": [],
   "source": [
    "# Ajout d'images au dossier d'entrainement\n",
    "for i in range(0, 175):\n",
    "    if alzheimer[i] == 1:\n",
    "        directory = \"Alzheimer/\"\n",
    "        fname = noms[i] + '_mpr_nn_anon_111_t88_masked_gfcalzheimer.x77.jpg'\n",
    "        src= os.path.join(original_dataset_dir, *[directory, fname])\n",
    "        dst=os.path.join(train_alzheimer_dir, fname)\n",
    "        if os.path.isfile(src)==True:\n",
    "            shutil.copyfile(src, dst)\n",
    "    else:\n",
    "        directory = \"Healthy/\"\n",
    "        fname = noms[i] + '_mpr_nn_anon_111_t88_masked_gfchealthy.x77.jpg'\n",
    "        src= os.path.join(original_dataset_dir, *[directory, fname])\n",
    "        dst=os.path.join(train_healthy_dir, fname)\n",
    "        if os.path.isfile(src)==True:\n",
    "            shutil.copyfile(src, dst)"
   ]
  },
  {
   "cell_type": "code",
   "execution_count": 8,
   "metadata": {},
   "outputs": [],
   "source": [
    "# Ajout d'images au dossier de validation\n",
    "for i in range(175, 200): \n",
    "    if alzheimer[i] == 1:\n",
    "        directory = \"Alzheimer/\"\n",
    "        fname = noms[i] + '_mpr_nn_anon_111_t88_masked_gfcalzheimer.x77.jpg'\n",
    "        src= os.path.join(original_dataset_dir, *[directory, fname])\n",
    "        dst = os.path.join(validation_alzheimer_dir, fname)\n",
    "        if os.path.isfile(src)==True:\n",
    "            shutil.copyfile(src, dst)\n",
    "    else:\n",
    "        directory = \"Healthy/\"\n",
    "        fname = noms[i] + '_mpr_nn_anon_111_t88_masked_gfchealthy.x77.jpg'\n",
    "        src= os.path.join(original_dataset_dir, *[directory, fname])\n",
    "        dst = os.path.join(validation_healthy_dir, fname)\n",
    "        if os.path.isfile(src)==True:\n",
    "            shutil.copyfile(src, dst)"
   ]
  },
  {
   "cell_type": "code",
   "execution_count": 9,
   "metadata": {},
   "outputs": [],
   "source": [
    "# Ajout d'images au dossier de test\n",
    "for i in range(200, 235):\n",
    "    if alzheimer[i] == 1:\n",
    "        directory = \"Alzheimer/\"\n",
    "        fname = noms[i] + '_mpr_nn_anon_111_t88_masked_gfcalzheimer.x77.jpg'\n",
    "        src= os.path.join(original_dataset_dir, *[directory, fname])\n",
    "        dst = os.path.join(test_alzheimer_dir, fname)\n",
    "        if os.path.isfile(src)==True:\n",
    "            shutil.copyfile(src, dst)\n",
    "    else:\n",
    "        directory = \"Healthy/\"\n",
    "        fname = noms[i] + '_mpr_nn_anon_111_t88_masked_gfchealthy.x77.jpg'\n",
    "        src= os.path.join(original_dataset_dir, *[directory, fname])\n",
    "        dst = os.path.join(test_healthy_dir, fname)\n",
    "        if os.path.isfile(src)==True:\n",
    "            shutil.copyfile(src, dst)"
   ]
  },
  {
   "cell_type": "code",
   "execution_count": 10,
   "metadata": {},
   "outputs": [],
   "source": [
    "from tensorflow.keras.preprocessing.image import ImageDataGenerator"
   ]
  },
  {
   "cell_type": "code",
   "execution_count": 11,
   "metadata": {},
   "outputs": [],
   "source": [
    "train_datagen = ImageDataGenerator(\n",
    "        rescale=1./255,\n",
    "        #shear_range=0.2,\n",
    "        zoom_range=0.2,\n",
    "        brightness_range=[0.5,1.5],\n",
    "        #horizontal_flip=True,\n",
    "        #vertical_flip=True,\n",
    "        #rotation_range=90\n",
    "        )"
   ]
  },
  {
   "cell_type": "code",
   "execution_count": 12,
   "metadata": {
    "scrolled": false
   },
   "outputs": [
    {
     "name": "stdout",
     "output_type": "stream",
     "text": [
      "Found 175 images belonging to 2 classes.\n"
     ]
    }
   ],
   "source": [
    "image_size = (150, 150)\n",
    "batch_size = 2\n",
    "\n",
    "training_set = train_datagen.flow_from_directory(\n",
    "    \"oasis_alzheimer_both/train\",\n",
    "    target_size=image_size,\n",
    "    batch_size=batch_size,\n",
    "    class_mode='categorical'\n",
    ")"
   ]
  },
  {
   "cell_type": "code",
   "execution_count": 13,
   "metadata": {},
   "outputs": [
    {
     "name": "stdout",
     "output_type": "stream",
     "text": [
      "Found 25 images belonging to 2 classes.\n"
     ]
    }
   ],
   "source": [
    "validation_datagen = ImageDataGenerator(rescale=1./255)\n",
    "\n",
    "validation_set = validation_datagen.flow_from_directory(\n",
    "    \"oasis_alzheimer_both/validation\",\n",
    "    target_size=image_size,\n",
    "    batch_size=batch_size,\n",
    "    class_mode='categorical'\n",
    ")"
   ]
  },
  {
   "cell_type": "code",
   "execution_count": 14,
   "metadata": {
    "scrolled": true
   },
   "outputs": [
    {
     "name": "stdout",
     "output_type": "stream",
     "text": [
      "Found 35 images belonging to 2 classes.\n"
     ]
    }
   ],
   "source": [
    "test_datagen = ImageDataGenerator(rescale=1./255)\n",
    "\n",
    "test_set = test_datagen.flow_from_directory(\n",
    "    \"oasis_alzheimer_both/test\",\n",
    "    target_size=image_size,\n",
    "    batch_size=batch_size,\n",
    "    class_mode='categorical',\n",
    "    shuffle = False\n",
    ")"
   ]
  },
  {
   "cell_type": "markdown",
   "metadata": {},
   "source": [
    "## Définition du modèle"
   ]
  },
  {
   "cell_type": "code",
   "execution_count": 15,
   "metadata": {
    "scrolled": false
   },
   "outputs": [],
   "source": [
    "from tensorflow.keras import layers\n",
    "from tensorflow.keras import models\n",
    "\n",
    "model = models.Sequential()\n",
    "model.add(layers.Conv2D(32, (3,3),activation='relu', input_shape=(150,150,3)))\n",
    "model.add(layers.Conv2D(32, (3,3),activation='relu'))\n",
    "model.add(layers.MaxPooling2D((2,2)))\n",
    "\n",
    "model.add(layers.Conv2D(64, (3,3), activation ='relu'))\n",
    "model.add(layers.MaxPooling2D((2,2)))\n",
    "\n",
    "model.add(layers.Flatten())\n",
    "model.add(layers.Dense(64, activation='relu'))\n",
    "model.add(layers.Dense(2, activation='softmax'))"
   ]
  },
  {
   "cell_type": "code",
   "execution_count": 16,
   "metadata": {
    "scrolled": false
   },
   "outputs": [
    {
     "name": "stdout",
     "output_type": "stream",
     "text": [
      "Model: \"sequential\"\n",
      "_________________________________________________________________\n",
      "Layer (type)                 Output Shape              Param #   \n",
      "=================================================================\n",
      "conv2d (Conv2D)              (None, 148, 148, 32)      896       \n",
      "_________________________________________________________________\n",
      "conv2d_1 (Conv2D)            (None, 146, 146, 32)      9248      \n",
      "_________________________________________________________________\n",
      "max_pooling2d (MaxPooling2D) (None, 73, 73, 32)        0         \n",
      "_________________________________________________________________\n",
      "conv2d_2 (Conv2D)            (None, 71, 71, 64)        18496     \n",
      "_________________________________________________________________\n",
      "max_pooling2d_1 (MaxPooling2 (None, 35, 35, 64)        0         \n",
      "_________________________________________________________________\n",
      "flatten (Flatten)            (None, 78400)             0         \n",
      "_________________________________________________________________\n",
      "dense (Dense)                (None, 64)                5017664   \n",
      "_________________________________________________________________\n",
      "dense_1 (Dense)              (None, 2)                 130       \n",
      "=================================================================\n",
      "Total params: 5,046,434\n",
      "Trainable params: 5,046,434\n",
      "Non-trainable params: 0\n",
      "_________________________________________________________________\n"
     ]
    }
   ],
   "source": [
    "model.summary()"
   ]
  },
  {
   "cell_type": "code",
   "execution_count": 19,
   "metadata": {
    "scrolled": false
   },
   "outputs": [
    {
     "name": "stdout",
     "output_type": "stream",
     "text": [
      "Epoch 1/100\n",
      "88/88 [==============================] - 2s 24ms/step - loss: 0.6862 - accuracy: 0.5714 - val_loss: 0.6632 - val_accuracy: 0.7200\n",
      "Epoch 2/100\n",
      "88/88 [==============================] - 2s 27ms/step - loss: 0.6843 - accuracy: 0.5771 - val_loss: 0.6605 - val_accuracy: 0.7200\n",
      "Epoch 3/100\n",
      "88/88 [==============================] - 2s 27ms/step - loss: 0.6835 - accuracy: 0.5771 - val_loss: 0.6569 - val_accuracy: 0.7200\n",
      "Epoch 4/100\n",
      "88/88 [==============================] - 2s 26ms/step - loss: 0.6834 - accuracy: 0.5771 - val_loss: 0.6547 - val_accuracy: 0.7200\n",
      "Epoch 5/100\n",
      "88/88 [==============================] - 2s 20ms/step - loss: 0.6830 - accuracy: 0.5771 - val_loss: 0.6531 - val_accuracy: 0.7200\n",
      "Epoch 6/100\n",
      "88/88 [==============================] - 2s 18ms/step - loss: 0.6825 - accuracy: 0.5771 - val_loss: 0.6504 - val_accuracy: 0.7200\n",
      "Epoch 7/100\n",
      "88/88 [==============================] - 2s 17ms/step - loss: 0.6823 - accuracy: 0.5771 - val_loss: 0.6491 - val_accuracy: 0.7200\n",
      "Epoch 8/100\n",
      "88/88 [==============================] - 1s 15ms/step - loss: 0.6822 - accuracy: 0.5771 - val_loss: 0.6478 - val_accuracy: 0.7200\n",
      "Epoch 9/100\n",
      "88/88 [==============================] - 1s 15ms/step - loss: 0.6823 - accuracy: 0.5771 - val_loss: 0.6466 - val_accuracy: 0.7200\n",
      "Epoch 10/100\n",
      "88/88 [==============================] - 1s 16ms/step - loss: 0.6820 - accuracy: 0.5771 - val_loss: 0.6456 - val_accuracy: 0.7200\n",
      "Epoch 11/100\n",
      "88/88 [==============================] - 1s 16ms/step - loss: 0.6818 - accuracy: 0.5771 - val_loss: 0.6445 - val_accuracy: 0.7200\n",
      "Epoch 12/100\n",
      "88/88 [==============================] - 2s 23ms/step - loss: 0.6817 - accuracy: 0.5771 - val_loss: 0.6429 - val_accuracy: 0.7200\n",
      "Epoch 13/100\n",
      "88/88 [==============================] - 2s 17ms/step - loss: 0.6816 - accuracy: 0.5771 - val_loss: 0.6426 - val_accuracy: 0.7200\n",
      "Epoch 14/100\n",
      "88/88 [==============================] - 1s 16ms/step - loss: 0.6815 - accuracy: 0.5771 - val_loss: 0.6405 - val_accuracy: 0.7200\n",
      "Epoch 15/100\n",
      "88/88 [==============================] - 2s 23ms/step - loss: 0.6815 - accuracy: 0.5771 - val_loss: 0.6409 - val_accuracy: 0.7200\n",
      "Epoch 16/100\n",
      "88/88 [==============================] - 2s 21ms/step - loss: 0.6816 - accuracy: 0.5771 - val_loss: 0.6399 - val_accuracy: 0.7200\n",
      "Epoch 17/100\n",
      "88/88 [==============================] - 2s 27ms/step - loss: 0.6815 - accuracy: 0.5771 - val_loss: 0.6403 - val_accuracy: 0.7200\n",
      "Epoch 18/100\n",
      "88/88 [==============================] - 2s 26ms/step - loss: 0.6816 - accuracy: 0.5771 - val_loss: 0.6402 - val_accuracy: 0.7200\n",
      "Epoch 19/100\n",
      "88/88 [==============================] - 2s 27ms/step - loss: 0.6815 - accuracy: 0.5771 - val_loss: 0.6400 - val_accuracy: 0.7200\n",
      "Epoch 20/100\n",
      "88/88 [==============================] - 2s 26ms/step - loss: 0.6817 - accuracy: 0.5771 - val_loss: 0.6381 - val_accuracy: 0.7200\n",
      "Epoch 21/100\n",
      "88/88 [==============================] - 2s 26ms/step - loss: 0.6815 - accuracy: 0.5771 - val_loss: 0.6396 - val_accuracy: 0.7200\n",
      "Epoch 22/100\n",
      "88/88 [==============================] - 2s 25ms/step - loss: 0.6814 - accuracy: 0.5771 - val_loss: 0.6375 - val_accuracy: 0.7200\n",
      "Epoch 23/100\n",
      "88/88 [==============================] - 2s 25ms/step - loss: 0.6815 - accuracy: 0.5771 - val_loss: 0.6379 - val_accuracy: 0.7200\n",
      "Epoch 24/100\n",
      "88/88 [==============================] - 2s 25ms/step - loss: 0.6815 - accuracy: 0.5771 - val_loss: 0.6384 - val_accuracy: 0.7200\n",
      "Epoch 25/100\n",
      "88/88 [==============================] - 2s 27ms/step - loss: 0.6814 - accuracy: 0.5771 - val_loss: 0.6378 - val_accuracy: 0.7200\n",
      "Epoch 26/100\n",
      "88/88 [==============================] - 2s 25ms/step - loss: 0.6814 - accuracy: 0.5771 - val_loss: 0.6373 - val_accuracy: 0.7200\n",
      "Epoch 27/100\n",
      "88/88 [==============================] - 2s 24ms/step - loss: 0.6816 - accuracy: 0.5771 - val_loss: 0.6367 - val_accuracy: 0.7200\n",
      "Epoch 28/100\n",
      "88/88 [==============================] - 2s 19ms/step - loss: 0.6815 - accuracy: 0.5771 - val_loss: 0.6379 - val_accuracy: 0.7200\n",
      "Epoch 29/100\n",
      "88/88 [==============================] - 2s 20ms/step - loss: 0.6815 - accuracy: 0.5771 - val_loss: 0.6368 - val_accuracy: 0.7200\n",
      "Epoch 30/100\n",
      "88/88 [==============================] - 2s 20ms/step - loss: 0.6814 - accuracy: 0.5771 - val_loss: 0.6364 - val_accuracy: 0.7200\n",
      "Epoch 31/100\n",
      "88/88 [==============================] - 2s 25ms/step - loss: 0.6813 - accuracy: 0.5771 - val_loss: 0.6360 - val_accuracy: 0.7200\n",
      "Epoch 32/100\n",
      "88/88 [==============================] - 2s 23ms/step - loss: 0.6815 - accuracy: 0.5771 - val_loss: 0.6363 - val_accuracy: 0.7200\n",
      "Epoch 33/100\n",
      "88/88 [==============================] - 2s 25ms/step - loss: 0.6814 - accuracy: 0.5771 - val_loss: 0.6367 - val_accuracy: 0.7200\n",
      "Epoch 34/100\n",
      "88/88 [==============================] - 2s 24ms/step - loss: 0.6815 - accuracy: 0.5771 - val_loss: 0.6371 - val_accuracy: 0.7200\n",
      "Epoch 35/100\n",
      "88/88 [==============================] - 2s 23ms/step - loss: 0.6816 - accuracy: 0.5771 - val_loss: 0.6361 - val_accuracy: 0.7200\n",
      "Epoch 36/100\n",
      "88/88 [==============================] - 2s 24ms/step - loss: 0.6814 - accuracy: 0.5771 - val_loss: 0.6369 - val_accuracy: 0.7200\n",
      "Epoch 37/100\n",
      "88/88 [==============================] - 2s 25ms/step - loss: 0.6815 - accuracy: 0.5771 - val_loss: 0.6372 - val_accuracy: 0.7200\n",
      "Epoch 38/100\n",
      "88/88 [==============================] - 2s 22ms/step - loss: 0.6814 - accuracy: 0.5771 - val_loss: 0.6372 - val_accuracy: 0.7200\n",
      "Epoch 39/100\n",
      "88/88 [==============================] - 2s 26ms/step - loss: 0.6816 - accuracy: 0.5771 - val_loss: 0.6376 - val_accuracy: 0.7200\n",
      "Epoch 40/100\n",
      "88/88 [==============================] - 2s 19ms/step - loss: 0.6814 - accuracy: 0.5771 - val_loss: 0.6376 - val_accuracy: 0.7200\n",
      "Epoch 41/100\n",
      "88/88 [==============================] - 2s 23ms/step - loss: 0.6816 - accuracy: 0.5771 - val_loss: 0.6380 - val_accuracy: 0.7200\n",
      "Epoch 42/100\n",
      "88/88 [==============================] - 2s 26ms/step - loss: 0.6815 - accuracy: 0.5771 - val_loss: 0.6375 - val_accuracy: 0.7200\n",
      "Epoch 43/100\n",
      "88/88 [==============================] - 2s 23ms/step - loss: 0.6813 - accuracy: 0.5771 - val_loss: 0.6374 - val_accuracy: 0.7200\n",
      "Epoch 44/100\n",
      "88/88 [==============================] - 2s 21ms/step - loss: 0.6815 - accuracy: 0.5771 - val_loss: 0.6377 - val_accuracy: 0.7200\n",
      "Epoch 45/100\n",
      "88/88 [==============================] - 2s 21ms/step - loss: 0.6814 - accuracy: 0.5771 - val_loss: 0.6368 - val_accuracy: 0.7200\n",
      "Epoch 46/100\n",
      "88/88 [==============================] - 2s 26ms/step - loss: 0.6814 - accuracy: 0.5771 - val_loss: 0.6370 - val_accuracy: 0.7200\n",
      "Epoch 47/100\n",
      "88/88 [==============================] - 2s 23ms/step - loss: 0.6817 - accuracy: 0.5771 - val_loss: 0.6374 - val_accuracy: 0.7200\n",
      "Epoch 48/100\n",
      "88/88 [==============================] - 2s 27ms/step - loss: 0.6813 - accuracy: 0.5771 - val_loss: 0.6368 - val_accuracy: 0.7200\n",
      "Epoch 49/100\n",
      "88/88 [==============================] - 2s 27ms/step - loss: 0.6818 - accuracy: 0.5771 - val_loss: 0.6365 - val_accuracy: 0.7200\n",
      "Epoch 50/100\n",
      "88/88 [==============================] - 2s 26ms/step - loss: 0.6815 - accuracy: 0.5771 - val_loss: 0.6369 - val_accuracy: 0.7200\n",
      "Epoch 51/100\n",
      "88/88 [==============================] - 2s 23ms/step - loss: 0.6814 - accuracy: 0.5771 - val_loss: 0.6374 - val_accuracy: 0.7200\n",
      "Epoch 52/100\n",
      "88/88 [==============================] - 2s 23ms/step - loss: 0.6813 - accuracy: 0.5771 - val_loss: 0.6368 - val_accuracy: 0.7200\n",
      "Epoch 53/100\n",
      "88/88 [==============================] - 2s 27ms/step - loss: 0.6814 - accuracy: 0.5771 - val_loss: 0.6376 - val_accuracy: 0.7200\n",
      "Epoch 54/100\n",
      "88/88 [==============================] - 2s 27ms/step - loss: 0.6815 - accuracy: 0.5771 - val_loss: 0.6373 - val_accuracy: 0.7200\n",
      "Epoch 55/100\n",
      "88/88 [==============================] - 2s 27ms/step - loss: 0.6820 - accuracy: 0.5771 - val_loss: 0.6354 - val_accuracy: 0.7200\n",
      "Epoch 56/100\n",
      "88/88 [==============================] - 2s 25ms/step - loss: 0.6816 - accuracy: 0.5771 - val_loss: 0.6369 - val_accuracy: 0.7200\n",
      "Epoch 57/100\n",
      "88/88 [==============================] - 2s 25ms/step - loss: 0.6816 - accuracy: 0.5771 - val_loss: 0.6371 - val_accuracy: 0.7200\n",
      "Epoch 58/100\n"
     ]
    },
    {
     "name": "stdout",
     "output_type": "stream",
     "text": [
      "88/88 [==============================] - 2s 27ms/step - loss: 0.6816 - accuracy: 0.5771 - val_loss: 0.6376 - val_accuracy: 0.7200\n",
      "Epoch 59/100\n",
      "88/88 [==============================] - 2s 26ms/step - loss: 0.6814 - accuracy: 0.5771 - val_loss: 0.6373 - val_accuracy: 0.7200\n",
      "Epoch 60/100\n",
      "88/88 [==============================] - 2s 26ms/step - loss: 0.6815 - accuracy: 0.5771 - val_loss: 0.6359 - val_accuracy: 0.7200\n",
      "Epoch 61/100\n",
      "88/88 [==============================] - 2s 24ms/step - loss: 0.6816 - accuracy: 0.5771 - val_loss: 0.6370 - val_accuracy: 0.7200\n",
      "Epoch 62/100\n",
      "88/88 [==============================] - 1s 16ms/step - loss: 0.6813 - accuracy: 0.5771 - val_loss: 0.6362 - val_accuracy: 0.7200\n",
      "Epoch 63/100\n",
      "88/88 [==============================] - 2s 24ms/step - loss: 0.6814 - accuracy: 0.5771 - val_loss: 0.6358 - val_accuracy: 0.7200\n",
      "Epoch 64/100\n",
      "88/88 [==============================] - 2s 24ms/step - loss: 0.6814 - accuracy: 0.5771 - val_loss: 0.6361 - val_accuracy: 0.7200\n",
      "Epoch 65/100\n",
      "88/88 [==============================] - 2s 20ms/step - loss: 0.6814 - accuracy: 0.5771 - val_loss: 0.6363 - val_accuracy: 0.7200\n",
      "Epoch 66/100\n",
      "88/88 [==============================] - 2s 24ms/step - loss: 0.6816 - accuracy: 0.5771 - val_loss: 0.6373 - val_accuracy: 0.7200\n",
      "Epoch 67/100\n",
      "88/88 [==============================] - 2s 19ms/step - loss: 0.6814 - accuracy: 0.5771 - val_loss: 0.6358 - val_accuracy: 0.7200\n",
      "Epoch 68/100\n",
      "88/88 [==============================] - 1s 16ms/step - loss: 0.6816 - accuracy: 0.5771 - val_loss: 0.6367 - val_accuracy: 0.7200\n",
      "Epoch 69/100\n",
      "88/88 [==============================] - 2s 23ms/step - loss: 0.6816 - accuracy: 0.5771 - val_loss: 0.6356 - val_accuracy: 0.7200\n",
      "Epoch 70/100\n",
      "88/88 [==============================] - 2s 24ms/step - loss: 0.6814 - accuracy: 0.5771 - val_loss: 0.6368 - val_accuracy: 0.7200\n",
      "Epoch 71/100\n",
      "88/88 [==============================] - 2s 23ms/step - loss: 0.6814 - accuracy: 0.5771 - val_loss: 0.6370 - val_accuracy: 0.7200\n",
      "Epoch 72/100\n",
      "88/88 [==============================] - 2s 27ms/step - loss: 0.6813 - accuracy: 0.5771 - val_loss: 0.6371 - val_accuracy: 0.7200\n",
      "Epoch 73/100\n",
      "88/88 [==============================] - 2s 25ms/step - loss: 0.6813 - accuracy: 0.5771 - val_loss: 0.6377 - val_accuracy: 0.7200\n",
      "Epoch 74/100\n",
      "88/88 [==============================] - 2s 26ms/step - loss: 0.6814 - accuracy: 0.5771 - val_loss: 0.6370 - val_accuracy: 0.7200\n",
      "Epoch 75/100\n",
      "88/88 [==============================] - 2s 25ms/step - loss: 0.6814 - accuracy: 0.5771 - val_loss: 0.6372 - val_accuracy: 0.7200\n",
      "Epoch 76/100\n",
      "88/88 [==============================] - 2s 25ms/step - loss: 0.6813 - accuracy: 0.5771 - val_loss: 0.6374 - val_accuracy: 0.7200\n",
      "Epoch 77/100\n",
      "88/88 [==============================] - 2s 25ms/step - loss: 0.6815 - accuracy: 0.5771 - val_loss: 0.6366 - val_accuracy: 0.7200\n",
      "Epoch 78/100\n",
      "88/88 [==============================] - 2s 22ms/step - loss: 0.6815 - accuracy: 0.5771 - val_loss: 0.6371 - val_accuracy: 0.7200\n",
      "Epoch 79/100\n",
      "88/88 [==============================] - 2s 23ms/step - loss: 0.6815 - accuracy: 0.5771 - val_loss: 0.6372 - val_accuracy: 0.7200\n",
      "Epoch 80/100\n",
      "88/88 [==============================] - 2s 25ms/step - loss: 0.6815 - accuracy: 0.5771 - val_loss: 0.6367 - val_accuracy: 0.7200\n",
      "Epoch 81/100\n",
      "88/88 [==============================] - 2s 25ms/step - loss: 0.6815 - accuracy: 0.5771 - val_loss: 0.6373 - val_accuracy: 0.7200\n",
      "Epoch 82/100\n",
      "88/88 [==============================] - 2s 26ms/step - loss: 0.6815 - accuracy: 0.5771 - val_loss: 0.6373 - val_accuracy: 0.7200\n",
      "Epoch 83/100\n",
      "88/88 [==============================] - 2s 25ms/step - loss: 0.6815 - accuracy: 0.5771 - val_loss: 0.6377 - val_accuracy: 0.7200\n",
      "Epoch 84/100\n",
      "88/88 [==============================] - 2s 24ms/step - loss: 0.6814 - accuracy: 0.5771 - val_loss: 0.6368 - val_accuracy: 0.7200\n",
      "Epoch 85/100\n",
      "88/88 [==============================] - 2s 27ms/step - loss: 0.6815 - accuracy: 0.5771 - val_loss: 0.6362 - val_accuracy: 0.7200\n",
      "Epoch 86/100\n",
      "88/88 [==============================] - 2s 26ms/step - loss: 0.6814 - accuracy: 0.5771 - val_loss: 0.6381 - val_accuracy: 0.7200\n",
      "Epoch 87/100\n",
      "88/88 [==============================] - 2s 22ms/step - loss: 0.6814 - accuracy: 0.5771 - val_loss: 0.6364 - val_accuracy: 0.7200\n",
      "Epoch 88/100\n",
      "88/88 [==============================] - 2s 23ms/step - loss: 0.6814 - accuracy: 0.5771 - val_loss: 0.6377 - val_accuracy: 0.7200\n",
      "Epoch 89/100\n",
      "88/88 [==============================] - 2s 25ms/step - loss: 0.6814 - accuracy: 0.5771 - val_loss: 0.6376 - val_accuracy: 0.7200\n",
      "Epoch 90/100\n",
      "88/88 [==============================] - 2s 27ms/step - loss: 0.6814 - accuracy: 0.5771 - val_loss: 0.6362 - val_accuracy: 0.7200\n",
      "Epoch 91/100\n",
      "88/88 [==============================] - 2s 26ms/step - loss: 0.6815 - accuracy: 0.5771 - val_loss: 0.6368 - val_accuracy: 0.7200\n",
      "Epoch 92/100\n",
      "88/88 [==============================] - 2s 22ms/step - loss: 0.6815 - accuracy: 0.5771 - val_loss: 0.6365 - val_accuracy: 0.7200\n",
      "Epoch 93/100\n",
      "88/88 [==============================] - 2s 24ms/step - loss: 0.6815 - accuracy: 0.5771 - val_loss: 0.6370 - val_accuracy: 0.7200\n",
      "Epoch 94/100\n",
      "88/88 [==============================] - 2s 21ms/step - loss: 0.6814 - accuracy: 0.5771 - val_loss: 0.6361 - val_accuracy: 0.7200\n",
      "Epoch 95/100\n",
      "88/88 [==============================] - 2s 23ms/step - loss: 0.6815 - accuracy: 0.5771 - val_loss: 0.6368 - val_accuracy: 0.7200\n",
      "Epoch 96/100\n",
      "88/88 [==============================] - 2s 21ms/step - loss: 0.6815 - accuracy: 0.5771 - val_loss: 0.6369 - val_accuracy: 0.7200\n",
      "Epoch 97/100\n",
      "88/88 [==============================] - 2s 20ms/step - loss: 0.6814 - accuracy: 0.5771 - val_loss: 0.6359 - val_accuracy: 0.7200\n",
      "Epoch 98/100\n",
      "88/88 [==============================] - 2s 25ms/step - loss: 0.6814 - accuracy: 0.5771 - val_loss: 0.6367 - val_accuracy: 0.7200\n",
      "Epoch 99/100\n",
      "88/88 [==============================] - 2s 22ms/step - loss: 0.6814 - accuracy: 0.5771 - val_loss: 0.6360 - val_accuracy: 0.7200\n",
      "Epoch 100/100\n",
      "88/88 [==============================] - 2s 25ms/step - loss: 0.6814 - accuracy: 0.5771 - val_loss: 0.6357 - val_accuracy: 0.7200\n",
      "211.73639702796936\n"
     ]
    }
   ],
   "source": [
    "epochs = 100\n",
    "\n",
    "model.compile(optimizer='adam', loss=\"categorical_crossentropy\", metrics=[\"accuracy\"])\n",
    "\n",
    "start_time = time.time()\n",
    "\n",
    "history = model.fit(x = training_set, validation_data=validation_set, shuffle=True, epochs=epochs)\n",
    "\n",
    "print(time.time() - start_time)"
   ]
  },
  {
   "cell_type": "code",
   "execution_count": 20,
   "metadata": {},
   "outputs": [
    {
     "data": {
      "image/png": "[encoded data removed]",
      "text/plain": [
       "<Figure size 432x288 with 1 Axes>"
      ]
     },
     "metadata": {
      "needs_background": "light"
     },
     "output_type": "display_data"
    },
    {
     "data": {
      "image/png": "[encoded data removed]",
      "text/plain": [
       "<Figure size 432x288 with 1 Axes>"
      ]
     },
     "metadata": {
      "needs_background": "light"
     },
     "output_type": "display_data"
    }
   ],
   "source": [
    "import matplotlib.pyplot as plt\n",
    "\n",
    "acc= history.history['accuracy']\n",
    "val_acc = history.history['val_accuracy']\n",
    "loss= history.history['loss']\n",
    "val_loss= history.history['val_loss']\n",
    "\n",
    "epochs= range(1, len(acc)+1)\n",
    "\n",
    "plt.plot(epochs, acc, 'bo', label='entrainement')\n",
    "plt.plot(epochs, val_acc,'b', label='validation')\n",
    "plt.title('Exactitude pendant l\\'entrainement et la validation')\n",
    "plt.legend()\n",
    "\n",
    "plt.figure()\n",
    "plt.plot(epochs, loss, 'bo', label='entrainement')\n",
    "plt.plot(epochs, val_loss, 'b', label='validation')\n",
    "plt.title('Perte pendant l\\'entrainement et la validation')\n",
    "plt.legend()\n",
    "plt.show()"
   ]
  },
  {
   "cell_type": "code",
   "execution_count": 21,
   "metadata": {},
   "outputs": [
    {
     "name": "stdout",
     "output_type": "stream",
     "text": [
      "18/18 [==============================] - 0s 9ms/step - loss: 0.7194 - accuracy: 0.4571\n"
     ]
    }
   ],
   "source": [
    "test_loss, test_acc= model.evaluate(test_set)"
   ]
  },
  {
   "cell_type": "code",
   "execution_count": 22,
   "metadata": {},
   "outputs": [
    {
     "name": "stdout",
     "output_type": "stream",
     "text": [
      "0.7194477915763855 0.4571428596973419\n"
     ]
    }
   ],
   "source": [
    "print(test_loss, test_acc)"
   ]
  },
  {
   "cell_type": "code",
   "execution_count": 23,
   "metadata": {
    "scrolled": false
   },
   "outputs": [
    {
     "name": "stdout",
     "output_type": "stream",
     "text": [
      "[[0.42099428 0.5790057 ]]\n"
     ]
    },
    {
     "name": "stderr",
     "output_type": "stream",
     "text": [
      "Using TensorFlow backend.\n"
     ]
    }
   ],
   "source": [
    "from keras.preprocessing import image\n",
    "\n",
    "test_image = image.load_img('./oasis_alzheimer_both/test/Alzheimer/OAS1_0430_MR1_mpr_nn_anon_111_t88_masked_gfcalzheimer.x77.jpg', target_size = (150, 150))\n",
    "test_image = image.img_to_array(test_image)/255.\n",
    "test_image = np.expand_dims(test_image, axis=0)\n",
    "\n",
    "prediction = model.predict_on_batch(test_image)\n",
    "print(prediction)"
   ]
  },
  {
   "cell_type": "code",
   "execution_count": 24,
   "metadata": {
    "scrolled": false
   },
   "outputs": [
    {
     "name": "stdout",
     "output_type": "stream",
     "text": [
      "[[0.42099428 0.5790057 ]]\n"
     ]
    }
   ],
   "source": [
    "from keras.preprocessing import image\n",
    "\n",
    "test_image = image.load_img('./oasis_alzheimer_both/test/Alzheimer/OAS1_0432_MR1_mpr_nn_anon_111_t88_masked_gfcalzheimer.x77.jpg', target_size = (150, 150))\n",
    "test_image = image.img_to_array(test_image)/255.\n",
    "test_image = np.expand_dims(test_image, axis=0)\n",
    "\n",
    "prediction = model.predict_on_batch(test_image)\n",
    "print(prediction)"
   ]
  },
  {
   "cell_type": "code",
   "execution_count": 25,
   "metadata": {
    "scrolled": true
   },
   "outputs": [
    {
     "name": "stdout",
     "output_type": "stream",
     "text": [
      "[[0.42099428 0.5790057 ]]\n"
     ]
    }
   ],
   "source": [
    "from keras.preprocessing import image\n",
    "\n",
    "test_image = image.load_img('./oasis_alzheimer_both/test/Healthy/OAS1_0426_MR1_mpr_nn_anon_111_t88_masked_gfchealthy.x77.jpg', target_size = (150, 150))\n",
    "test_image = image.img_to_array(test_image)/255.\n",
    "test_image = np.expand_dims(test_image, axis=0)\n",
    "\n",
    "prediction = model.predict_on_batch(test_image)\n",
    "print(prediction)"
   ]
  },
  {
   "cell_type": "code",
   "execution_count": 26,
   "metadata": {},
   "outputs": [
    {
     "data": {
      "image/png": "[encoded data removed]",
      "text/plain": [
       "<Figure size 432x288 with 1 Axes>"
      ]
     },
     "metadata": {
      "needs_background": "light"
     },
     "output_type": "display_data"
    }
   ],
   "source": [
    "y_true_labels = test_set.classes\n",
    "true_labels = []\n",
    "\n",
    "for label in y_true_labels:\n",
    "    true_labels.append(np.array([np.float32(label)]))\n",
    "\n",
    "preds = model.predict(test_set)\n",
    "\n",
    "predictions = []\n",
    "\n",
    "for x in preds.tolist():\n",
    "    predictions.append(x[1])\n",
    "\n",
    "from sklearn.metrics import roc_curve, auc\n",
    "\n",
    "fpr, tpr, _ = roc_curve(true_labels, predictions)\n",
    "auc = auc(fpr, tpr)\n",
    "\n",
    "plt.figure(1)\n",
    "plt.plot([0, 1], [0, 1], 'k--')\n",
    "plt.plot(fpr, tpr, label='Keras (area = {:.3f})'.format(auc))\n",
    "plt.xlabel('False positive rate')\n",
    "plt.ylabel('True positive rate')\n",
    "plt.title('ROC curve')\n",
    "plt.legend(loc='best')\n",
    "plt.show()"
   ]
  },
  {
   "cell_type": "markdown",
   "metadata": {},
   "source": [
    "# Sauvegarde du modèle"
   ]
  },
  {
   "cell_type": "code",
   "execution_count": null,
   "metadata": {},
   "outputs": [],
   "source": [
    "model.save('D:/Documents/Grad-CAM/models/OASIS/3_couches_adam')"
   ]
  },
  {
   "cell_type": "markdown",
   "metadata": {},
   "source": [
    "### Pour juste loader le modèle"
   ]
  },
  {
   "cell_type": "code",
   "execution_count": 173,
   "metadata": {},
   "outputs": [],
   "source": [
    "import tensorflow as tf\n",
    "from tensorflow import keras\n",
    "\n",
    "loaded_model = keras.models.load_model('D:/Documents/Grad-CAM/models/OASIS/3_couches_adam_71_43_binary')"
   ]
  },
  {
   "cell_type": "code",
   "execution_count": 174,
   "metadata": {},
   "outputs": [
    {
     "name": "stdout",
     "output_type": "stream",
     "text": [
      "5/5 [==============================] - 0s 20ms/step - loss: 0.7315 - accuracy: 0.5000\n"
     ]
    }
   ],
   "source": [
    "test_loss, test_acc= loaded_model.evaluate(test_set)"
   ]
  },
  {
   "cell_type": "markdown",
   "metadata": {},
   "source": [
    "# Grad-CAM"
   ]
  },
  {
   "cell_type": "markdown",
   "metadata": {},
   "source": [
    "#### https://gist.github.com/RaphaelMeudec/e9a805fa82880876f8d89766f0690b54"
   ]
  },
  {
   "cell_type": "code",
   "execution_count": null,
   "metadata": {},
   "outputs": [],
   "source": [
    "import cv2\n",
    "import numpy as np\n",
    "import tensorflow as tf\n",
    "from tensorflow import keras\n",
    "\n",
    "physical_devices = tf.config.list_physical_devices('GPU')\n",
    "\n",
    "tf.config.experimental.set_memory_growth(physical_devices[0], True)"
   ]
  },
  {
   "cell_type": "code",
   "execution_count": null,
   "metadata": {},
   "outputs": [],
   "source": [
    "IMAGE_PATH = './oasis_alzheimer/test/Alzheimer/OAS1_0388_MR1_mpr_nn_anon_111_t88_masked_gfcalzheimer.x77.jpg'\n",
    "\n",
    "LAYER_NAME = 'conv2d_8'\n",
    "HOMME_CLASS_INDEX = 1\n",
    "FEMME_CLASS_INDEX = 0\n",
    "\n",
    "img = tf.keras.preprocessing.image.load_img(IMAGE_PATH, target_size=(150, 150))\n",
    "img = tf.keras.preprocessing.image.img_to_array(img)/255.\n",
    "\n",
    "#model = keras.models.load_model('D:/Documents/Grad-CAM/models/4_couches_adam_98_07_categorical')\n",
    "\n",
    "grad_model = tf.keras.models.Model([model.inputs], [model.get_layer(LAYER_NAME).output, model.output])\n",
    "\n",
    "with tf.GradientTape() as tape:\n",
    "    conv_outputs, predictions = grad_model(np.array([img]))\n",
    "    loss = predictions[:, HOMME_CLASS_INDEX]\n",
    "\n",
    "output = conv_outputs[0]\n",
    "grads = tape.gradient(loss, conv_outputs)[0]\n",
    "\n",
    "gate_f = tf.cast(output > 0, 'float32')\n",
    "gate_r = tf.cast(grads > 0, 'float32')\n",
    "guided_grads = tf.cast(output > 0, 'float32') * tf.cast(grads > 0, 'float32') * grads\n",
    "\n",
    "weights = tf.reduce_mean(guided_grads, axis=(0, 1))\n",
    "\n",
    "cam = np.ones(output.shape[0: 2], dtype = np.float32)\n",
    "\n",
    "for i, w in enumerate(weights):\n",
    "    cam += w * output[:, :, i]\n",
    "\n",
    "cam = cv2.resize(cam.numpy(), (150, 150))\n",
    "cam = np.maximum(cam, 0)\n",
    "heatmap = (cam - cam.min()) / (cam.max() - cam.min())\n",
    "\n",
    "cam = cv2.applyColorMap(np.uint8(255*heatmap), cv2.COLORMAP_JET)\n",
    "\n",
    "output_image = cv2.addWeighted(cv2.cvtColor(img.astype('uint8'), cv2.COLOR_RGB2BGR), 0.5, cam, 1, 0)\n",
    "\n",
    "cv2.imwrite('cam.png', output_image)"
   ]
  },
  {
   "cell_type": "code",
   "execution_count": null,
   "metadata": {},
   "outputs": [],
   "source": [
    "predictions.numpy()"
   ]
  },
  {
   "cell_type": "code",
   "execution_count": null,
   "metadata": {},
   "outputs": [],
   "source": [
    "model.summary()"
   ]
  },
  {
   "cell_type": "code",
   "execution_count": null,
   "metadata": {},
   "outputs": [],
   "source": []
  }
 ],
 "metadata": {
  "kernelspec": {
   "display_name": "Python 3",
   "language": "python",
   "name": "python3"
  },
  "language_info": {
   "codemirror_mode": {
    "name": "ipython",
    "version": 3
   },
   "file_extension": ".py",
   "mimetype": "text/x-python",
   "name": "python",
   "nbconvert_exporter": "python",
   "pygments_lexer": "ipython3",
   "version": "3.7.4"
  }
 },
 "nbformat": 4,
 "nbformat_minor": 4
}
