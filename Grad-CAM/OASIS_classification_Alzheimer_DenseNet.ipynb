{
 "cells": [
  {
   "cell_type": "code",
   "execution_count": null,
   "metadata": {},
   "outputs": [],
   "source": [
    "import tensorflow as tf\n",
    "from tensorflow import keras\n",
    "import numpy as np\n",
    "np.random.seed(666)\n",
    "import time\n",
    "\n",
    "physical_devices = tf.config.list_physical_devices('GPU')\n",
    "\n",
    "tf.config.experimental.set_memory_growth(physical_devices[0], True)"
   ]
  },
  {
   "cell_type": "code",
   "execution_count": null,
   "metadata": {},
   "outputs": [],
   "source": [
    "print(\"Num GPUs Available: \", len(tf.config.experimental.list_physical_devices('GPU')))"
   ]
  },
  {
   "cell_type": "markdown",
   "metadata": {},
   "source": [
    "# Séparation des images en ensembles d'entraînement, validation et test"
   ]
  },
  {
   "cell_type": "code",
   "execution_count": null,
   "metadata": {},
   "outputs": [],
   "source": [
    "import os, shutil \n",
    "\n",
    "original_dataset_dir= 'D:/Documents/Grad-CAM/oasis_brain_no_nn_slices/X/'\n",
    "\n",
    "base_dir='D:/Documents/Grad-CAM/oasis_alzheimer_both/'\n",
    "if not os.path.exists(base_dir):\n",
    "    os.mkdir(base_dir)\n",
    "    \n",
    "train_dir=os.path.join(base_dir,'train/')\n",
    "if not os.path.exists(train_dir):\n",
    "    os.mkdir(train_dir)\n",
    "    \n",
    "validation_dir=os.path.join(base_dir,'validation/')\n",
    "if not os.path.exists(validation_dir):\n",
    "    os.mkdir(validation_dir)\n",
    "    \n",
    "test_dir=os.path.join(base_dir,'test/')\n",
    "if not os.path.exists(test_dir):\n",
    "    os.mkdir(test_dir)"
   ]
  },
  {
   "cell_type": "code",
   "execution_count": null,
   "metadata": {},
   "outputs": [],
   "source": [
    "train_alzheimer_dir=os.path.join(train_dir,'Alzheimer')\n",
    "if not os.path.exists(train_alzheimer_dir):\n",
    "    os.mkdir(train_alzheimer_dir)\n",
    "\n",
    "train_healthy_dir = os.path.join(train_dir, 'Healthy')\n",
    "if not os.path.exists(train_healthy_dir):\n",
    "    os.mkdir(train_healthy_dir)\n",
    "    \n",
    "validation_alzheimer_dir=os.path.join(validation_dir,'Alzheimer')\n",
    "if not os.path.exists(validation_alzheimer_dir):\n",
    "    os.mkdir(validation_alzheimer_dir)\n",
    "\n",
    "validation_healthy_dir = os.path.join(validation_dir, 'Healthy')\n",
    "if not os.path.exists(validation_healthy_dir):\n",
    "    os.mkdir(validation_healthy_dir)\n",
    "    \n",
    "test_alzheimer_dir=os.path.join(test_dir,'Alzheimer')\n",
    "if not os.path.exists(test_alzheimer_dir):\n",
    "    os.mkdir(test_alzheimer_dir)\n",
    "\n",
    "test_healthy_dir = os.path.join(test_dir, 'Healthy')\n",
    "if not os.path.exists(test_healthy_dir):\n",
    "    os.mkdir(test_healthy_dir)"
   ]
  },
  {
   "cell_type": "code",
   "execution_count": null,
   "metadata": {},
   "outputs": [],
   "source": [
    "file= open('D:/Documents/Grad-CAM/oasis_cross-sectional_labels.csv','r')\n",
    "\n",
    "ligne= file.readlines()\n",
    "\n",
    "file.close()"
   ]
  },
  {
   "cell_type": "code",
   "execution_count": null,
   "metadata": {},
   "outputs": [],
   "source": [
    "noms = []\n",
    "alzheimer = []\n",
    "\n",
    "\n",
    "for i in range (1,len(ligne)):\n",
    "    li=str(ligne[i]).rstrip('\\n')\n",
    "    liste=li.split(',')\n",
    "    \n",
    "    if liste[7] != \"\":\n",
    "        noms.append(liste[0])\n",
    "        if liste[7] == \"0\":\n",
    "            alzheimer.append(0)\n",
    "        else:\n",
    "            alzheimer.append(1)\n",
    "\n",
    "print(len(noms))\n",
    "print(len(alzheimer))"
   ]
  },
  {
   "cell_type": "code",
   "execution_count": null,
   "metadata": {},
   "outputs": [],
   "source": [
    "# Ajout d'images au dossier d'entrainement\n",
    "for i in range(0, 175):\n",
    "    if alzheimer[i] == 1:\n",
    "        directory = \"Alzheimer/\"\n",
    "        fname = noms[i] + '_mpr_nn_anon_111_t88_masked_gfcalzheimer.x77.jpg'\n",
    "        src= os.path.join(original_dataset_dir, *[directory, fname])\n",
    "        dst=os.path.join(train_alzheimer_dir, fname)\n",
    "        if os.path.isfile(src)==True:\n",
    "            shutil.copyfile(src, dst)\n",
    "    else:\n",
    "        directory = \"Healthy/\"\n",
    "        fname = noms[i] + '_mpr_nn_anon_111_t88_masked_gfchealthy.x77.jpg'\n",
    "        src= os.path.join(original_dataset_dir, *[directory, fname])\n",
    "        dst=os.path.join(train_healthy_dir, fname)\n",
    "        if os.path.isfile(src)==True:\n",
    "            shutil.copyfile(src, dst)"
   ]
  },
  {
   "cell_type": "code",
   "execution_count": null,
   "metadata": {},
   "outputs": [],
   "source": [
    "# Ajout d'images au dossier de validation\n",
    "for i in range(175, 200): \n",
    "    if alzheimer[i] == 1:\n",
    "        directory = \"Alzheimer/\"\n",
    "        fname = noms[i] + '_mpr_nn_anon_111_t88_masked_gfcalzheimer.x77.jpg'\n",
    "        src= os.path.join(original_dataset_dir, *[directory, fname])\n",
    "        dst = os.path.join(validation_alzheimer_dir, fname)\n",
    "        if os.path.isfile(src)==True:\n",
    "            shutil.copyfile(src, dst)\n",
    "    else:\n",
    "        directory = \"Healthy/\"\n",
    "        fname = noms[i] + '_mpr_nn_anon_111_t88_masked_gfchealthy.x77.jpg'\n",
    "        src= os.path.join(original_dataset_dir, *[directory, fname])\n",
    "        dst = os.path.join(validation_healthy_dir, fname)\n",
    "        if os.path.isfile(src)==True:\n",
    "            shutil.copyfile(src, dst)"
   ]
  },
  {
   "cell_type": "code",
   "execution_count": null,
   "metadata": {},
   "outputs": [],
   "source": [
    "# Ajout d'images au dossier de test\n",
    "for i in range(200, 235):\n",
    "    if alzheimer[i] == 1:\n",
    "        directory = \"Alzheimer/\"\n",
    "        fname = noms[i] + '_mpr_nn_anon_111_t88_masked_gfcalzheimer.x77.jpg'\n",
    "        src= os.path.join(original_dataset_dir, *[directory, fname])\n",
    "        dst = os.path.join(test_alzheimer_dir, fname)\n",
    "        if os.path.isfile(src)==True:\n",
    "            shutil.copyfile(src, dst)\n",
    "    else:\n",
    "        directory = \"Healthy/\"\n",
    "        fname = noms[i] + '_mpr_nn_anon_111_t88_masked_gfchealthy.x77.jpg'\n",
    "        src= os.path.join(original_dataset_dir, *[directory, fname])\n",
    "        dst = os.path.join(test_healthy_dir, fname)\n",
    "        if os.path.isfile(src)==True:\n",
    "            shutil.copyfile(src, dst)"
   ]
  },
  {
   "cell_type": "code",
   "execution_count": null,
   "metadata": {},
   "outputs": [],
   "source": [
    "from tensorflow.keras.preprocessing.image import ImageDataGenerator"
   ]
  },
  {
   "cell_type": "code",
   "execution_count": null,
   "metadata": {},
   "outputs": [],
   "source": [
    "train_datagen = ImageDataGenerator(\n",
    "        rescale=1./255,\n",
    "        #shear_range=0.2,\n",
    "        zoom_range=0.2,\n",
    "        brightness_range=[0.5,1.5],\n",
    "        #horizontal_flip=True,\n",
    "        #vertical_flip=True,\n",
    "        #rotation_range=90\n",
    "        )"
   ]
  },
  {
   "cell_type": "code",
   "execution_count": null,
   "metadata": {
    "scrolled": false
   },
   "outputs": [],
   "source": [
    "image_size = (150, 150)\n",
    "batch_size = 2\n",
    "\n",
    "training_set = train_datagen.flow_from_directory(\n",
    "    \"oasis_alzheimer_both/train\",\n",
    "    target_size=image_size,\n",
    "    batch_size=batch_size,\n",
    "    class_mode='categorical'\n",
    ")"
   ]
  },
  {
   "cell_type": "code",
   "execution_count": null,
   "metadata": {},
   "outputs": [],
   "source": [
    "validation_datagen = ImageDataGenerator(rescale=1./255)\n",
    "\n",
    "validation_set = validation_datagen.flow_from_directory(\n",
    "    \"oasis_alzheimer_both/validation\",\n",
    "    target_size=image_size,\n",
    "    batch_size=batch_size,\n",
    "    class_mode='categorical'\n",
    ")"
   ]
  },
  {
   "cell_type": "code",
   "execution_count": null,
   "metadata": {
    "scrolled": true
   },
   "outputs": [],
   "source": [
    "test_datagen = ImageDataGenerator(rescale=1./255)\n",
    "\n",
    "test_set = test_datagen.flow_from_directory(\n",
    "    \"oasis_alzheimer_both/test\",\n",
    "    target_size=image_size,\n",
    "    batch_size=batch_size,\n",
    "    class_mode='categorical',\n",
    "    shuffle = False\n",
    ")"
   ]
  },
  {
   "cell_type": "markdown",
   "metadata": {},
   "source": [
    "## Définition du modèle et entraînement"
   ]
  },
  {
   "cell_type": "code",
   "execution_count": null,
   "metadata": {
    "scrolled": false
   },
   "outputs": [],
   "source": [
    "densenet = tf.keras.applications.DenseNet201(\n",
    "    include_top=False,\n",
    "    weights=\"imagenet\",\n",
    "    input_tensor=None,\n",
    "    input_shape=(150,150,3),\n",
    "    pooling=None,\n",
    "    classes=1000,\n",
    ")"
   ]
  },
  {
   "cell_type": "code",
   "execution_count": null,
   "metadata": {},
   "outputs": [],
   "source": [
    "from tensorflow.keras.layers import Dense, GlobalAveragePooling2D\n",
    "from tensorflow.keras.models import Model\n",
    "\n",
    "x = densenet.output\n",
    "x = GlobalAveragePooling2D()(x)\n",
    "x = Dense(1024, activation='relu')(x)\n",
    "predictions = Dense(2, activation='softmax')(x)"
   ]
  },
  {
   "cell_type": "code",
   "execution_count": null,
   "metadata": {},
   "outputs": [],
   "source": [
    "densenet_model = Model(inputs=densenet.input, outputs=predictions)"
   ]
  },
  {
   "cell_type": "code",
   "execution_count": null,
   "metadata": {},
   "outputs": [],
   "source": [
    "for layer in densenet.layers:\n",
    "    layer.trainable = False"
   ]
  },
  {
   "cell_type": "code",
   "execution_count": null,
   "metadata": {},
   "outputs": [],
   "source": [
    "densenet_model.compile(optimizer='adam', loss='categorical_crossentropy', metrics=['accuracy'])"
   ]
  },
  {
   "cell_type": "code",
   "execution_count": null,
   "metadata": {
    "scrolled": false
   },
   "outputs": [],
   "source": [
    "start_time = time.time()\n",
    "\n",
    "history = densenet_model.fit(x = training_set, validation_data=validation_set, shuffle=True, epochs=20)\n",
    "\n",
    "print(time.time() - start_time)"
   ]
  },
  {
   "cell_type": "markdown",
   "metadata": {},
   "source": [
    "## Traçage des graphiques d'entraînement et ROC"
   ]
  },
  {
   "cell_type": "code",
   "execution_count": null,
   "metadata": {},
   "outputs": [],
   "source": [
    "import matplotlib.pyplot as plt\n",
    "\n",
    "acc= history.history['accuracy']\n",
    "val_acc = history.history['val_accuracy']\n",
    "loss= history.history['loss']\n",
    "val_loss= history.history['val_loss']\n",
    "\n",
    "epochs= range(1, len(acc)+1)\n",
    "\n",
    "plt.plot(epochs, acc, 'bo', label='entrainement')\n",
    "plt.plot(epochs, val_acc,'b', label='validation')\n",
    "plt.title('Exactitude pendant l\\'entrainement et la validation')\n",
    "plt.legend()\n",
    "\n",
    "plt.figure()\n",
    "plt.plot(epochs, loss, 'bo', label='entrainement')\n",
    "plt.plot(epochs, val_loss, 'b', label='validation')\n",
    "plt.title('Perte pendant l\\'entrainement et la validation')\n",
    "plt.legend()\n",
    "plt.show()"
   ]
  },
  {
   "cell_type": "code",
   "execution_count": null,
   "metadata": {},
   "outputs": [],
   "source": [
    "test_loss, test_acc= densenet_model.evaluate(test_set)"
   ]
  },
  {
   "cell_type": "code",
   "execution_count": null,
   "metadata": {},
   "outputs": [],
   "source": [
    "print(test_loss, test_acc)"
   ]
  },
  {
   "cell_type": "code",
   "execution_count": null,
   "metadata": {
    "scrolled": false
   },
   "outputs": [],
   "source": [
    "from keras.preprocessing import image\n",
    "\n",
    "test_image = image.load_img('./oasis_alzheimer_both/test/Alzheimer/OAS1_0430_MR1_mpr_nn_anon_111_t88_masked_gfcalzheimer.x77.jpg', target_size = (150, 150))\n",
    "test_image = image.img_to_array(test_image)/255.\n",
    "test_image = np.expand_dims(test_image, axis=0)\n",
    "\n",
    "prediction = densenet_model.predict_on_batch(test_image)\n",
    "print(prediction)"
   ]
  },
  {
   "cell_type": "code",
   "execution_count": null,
   "metadata": {
    "scrolled": false
   },
   "outputs": [],
   "source": [
    "from keras.preprocessing import image\n",
    "\n",
    "test_image = image.load_img('./oasis_alzheimer_both/test/Alzheimer/OAS1_0432_MR1_mpr_nn_anon_111_t88_masked_gfcalzheimer.x77.jpg', target_size = (150, 150))\n",
    "test_image = image.img_to_array(test_image)/255.\n",
    "test_image = np.expand_dims(test_image, axis=0)\n",
    "\n",
    "prediction = model.predict_on_batch(test_image)\n",
    "print(prediction)"
   ]
  },
  {
   "cell_type": "code",
   "execution_count": null,
   "metadata": {
    "scrolled": true
   },
   "outputs": [],
   "source": [
    "from keras.preprocessing import image\n",
    "\n",
    "test_image = image.load_img('./oasis_alzheimer_both/test/Healthy/OAS1_0426_MR1_mpr_nn_anon_111_t88_masked_gfchealthy.x77.jpg', target_size = (150, 150))\n",
    "test_image = image.img_to_array(test_image)/255.\n",
    "test_image = np.expand_dims(test_image, axis=0)\n",
    "\n",
    "prediction = model.predict_on_batch(test_image)\n",
    "print(prediction)"
   ]
  },
  {
   "cell_type": "code",
   "execution_count": null,
   "metadata": {},
   "outputs": [],
   "source": [
    "y_true_labels = test_set.classes\n",
    "true_labels = []\n",
    "\n",
    "for label in y_true_labels:\n",
    "    true_labels.append(np.array([np.float32(label)]))\n",
    "\n",
    "preds = densenet_model.predict(test_set)\n",
    "\n",
    "predictions = []\n",
    "\n",
    "for x in preds.tolist():\n",
    "    predictions.append(x[1])\n",
    "\n",
    "from sklearn.metrics import roc_curve, auc\n",
    "\n",
    "fpr, tpr, _ = roc_curve(true_labels, predictions)\n",
    "auc = auc(fpr, tpr)\n",
    "\n",
    "plt.figure(1)\n",
    "plt.plot([0, 1], [0, 1], 'k--')\n",
    "plt.plot(fpr, tpr, label='AUC (area = {:.3f})'.format(auc))\n",
    "plt.xlabel('False positive rate')\n",
    "plt.ylabel('True positive rate')\n",
    "plt.title('ROC curve')\n",
    "plt.legend(loc='best')\n",
    "plt.show()"
   ]
  },
  {
   "cell_type": "markdown",
   "metadata": {},
   "source": [
    "# Sauvegarde du modèle"
   ]
  },
  {
   "cell_type": "code",
   "execution_count": null,
   "metadata": {},
   "outputs": [],
   "source": [
    "model.save('D:/Documents/Grad-CAM/models/OASIS/3_couches_adam')"
   ]
  },
  {
   "cell_type": "markdown",
   "metadata": {},
   "source": [
    "### Pour juste loader le modèle"
   ]
  },
  {
   "cell_type": "code",
   "execution_count": null,
   "metadata": {},
   "outputs": [],
   "source": [
    "import tensorflow as tf\n",
    "from tensorflow import keras\n",
    "\n",
    "loaded_model = keras.models.load_model('D:/Documents/Grad-CAM/models/OASIS/3_couches_adam_71_43_binary')"
   ]
  },
  {
   "cell_type": "code",
   "execution_count": null,
   "metadata": {},
   "outputs": [],
   "source": [
    "test_loss, test_acc= loaded_model.evaluate(test_set)"
   ]
  },
  {
   "cell_type": "markdown",
   "metadata": {},
   "source": [
    "# Grad-CAM"
   ]
  },
  {
   "cell_type": "markdown",
   "metadata": {},
   "source": [
    "#### https://gist.github.com/RaphaelMeudec/e9a805fa82880876f8d89766f0690b54"
   ]
  },
  {
   "cell_type": "code",
   "execution_count": null,
   "metadata": {},
   "outputs": [],
   "source": [
    "import cv2\n",
    "import numpy as np\n",
    "import tensorflow as tf\n",
    "from tensorflow import keras\n",
    "\n",
    "physical_devices = tf.config.list_physical_devices('GPU')\n",
    "\n",
    "tf.config.experimental.set_memory_growth(physical_devices[0], True)"
   ]
  },
  {
   "cell_type": "code",
   "execution_count": null,
   "metadata": {},
   "outputs": [],
   "source": [
    "IMAGE_PATH = './oasis_alzheimer_both/test/Alzheimer/OAS1_0388_MR1_mpr_nn_anon_111_t88_masked_gfcalzheimer.x77.jpg'\n",
    "\n",
    "LAYER_NAME = 'conv3_block1_1_conv'\n",
    "ALZHEIMER_CLASS_INDEX = 1\n",
    "HEALTHY_CLASS_INDEX = 0\n",
    "\n",
    "img = tf.keras.preprocessing.image.load_img(IMAGE_PATH, target_size=(150, 150))\n",
    "img = tf.keras.preprocessing.image.img_to_array(img)/255.\n",
    "\n",
    "#model = keras.models.load_model('D:/Documents/Grad-CAM/models/4_couches_adam_98_07_categorical')\n",
    "model = densenet_model\n",
    "\n",
    "grad_model = tf.keras.models.Model([model.inputs], [model.get_layer(LAYER_NAME).output, model.output])\n",
    "\n",
    "with tf.GradientTape() as tape:\n",
    "    conv_outputs, predictions = grad_model(np.array([img]))\n",
    "    loss = predictions[:, ALZHEIMER_CLASS_INDEX]\n",
    "\n",
    "output = conv_outputs[0]\n",
    "grads = tape.gradient(loss, conv_outputs)[0]\n",
    "\n",
    "gate_f = tf.cast(output > 0, 'float32')\n",
    "gate_r = tf.cast(grads > 0, 'float32')\n",
    "guided_grads = tf.cast(output > 0, 'float32') * tf.cast(grads > 0, 'float32') * grads\n",
    "\n",
    "weights = tf.reduce_mean(guided_grads, axis=(0, 1))\n",
    "\n",
    "cam = np.ones(output.shape[0: 2], dtype = np.float32)\n",
    "\n",
    "for i, w in enumerate(weights):\n",
    "    cam += w * output[:, :, i]\n",
    "\n",
    "cam = cv2.resize(cam.numpy(), (150, 150))\n",
    "cam = np.maximum(cam, 0)\n",
    "heatmap = (cam - cam.min()) / (cam.max() - cam.min())\n",
    "\n",
    "cam = cv2.applyColorMap(np.uint8(255*heatmap), cv2.COLORMAP_JET)\n",
    "\n",
    "output_image = cv2.addWeighted(cv2.cvtColor(img.astype('uint8'), cv2.COLOR_RGB2BGR), 0.5, cam, 1, 0)\n",
    "\n",
    "cv2.imwrite('cam.png', output_image)"
   ]
  },
  {
   "cell_type": "code",
   "execution_count": null,
   "metadata": {},
   "outputs": [],
   "source": []
  }
 ],
 "metadata": {
  "kernelspec": {
   "display_name": "Python 3",
   "language": "python",
   "name": "python3"
  },
  "language_info": {
   "codemirror_mode": {
    "name": "ipython",
    "version": 3
   },
   "file_extension": ".py",
   "mimetype": "text/x-python",
   "name": "python",
   "nbconvert_exporter": "python",
   "pygments_lexer": "ipython3",
   "version": "3.7.4"
  }
 },
 "nbformat": 4,
 "nbformat_minor": 4
}
