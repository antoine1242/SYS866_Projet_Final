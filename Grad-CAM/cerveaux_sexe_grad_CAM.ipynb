{
 "cells": [
  {
   "cell_type": "code",
   "execution_count": 1,
   "metadata": {},
   "outputs": [],
   "source": [
    "import tensorflow as tf\n",
    "from tensorflow import keras\n",
    "import numpy as np\n",
    "np.random.seed(666)\n",
    "\n",
    "physical_devices = tf.config.list_physical_devices('GPU')\n",
    "\n",
    "tf.config.experimental.set_memory_growth(physical_devices[0], True)"
   ]
  },
  {
   "cell_type": "code",
   "execution_count": 2,
   "metadata": {},
   "outputs": [
    {
     "name": "stdout",
     "output_type": "stream",
     "text": [
      "Num GPUs Available:  1\n"
     ]
    }
   ],
   "source": [
    "print(\"Num GPUs Available: \", len(tf.config.experimental.list_physical_devices('GPU')))"
   ]
  },
  {
   "cell_type": "code",
   "execution_count": 3,
   "metadata": {},
   "outputs": [],
   "source": [
    "import os, shutil \n",
    "\n",
    "original_dataset_dir= 'D:/Documents/Grad-CAM/HCP_SYS866_2020/'\n",
    "\n",
    "base_dir='D:/Documents/Grad-CAM/cerveaux/'\n",
    "if not os.path.exists(base_dir):\n",
    "    os.mkdir(base_dir)\n",
    "    \n",
    "train_dir=os.path.join(base_dir,'train/')\n",
    "if not os.path.exists(train_dir):\n",
    "    os.mkdir(train_dir)\n",
    "    \n",
    "validation_dir=os.path.join(base_dir,'validation/')\n",
    "if not os.path.exists(validation_dir):\n",
    "    os.mkdir(validation_dir)\n",
    "    \n",
    "test_dir=os.path.join(base_dir,'test/')\n",
    "if not os.path.exists(test_dir):\n",
    "    os.mkdir(test_dir)"
   ]
  },
  {
   "cell_type": "code",
   "execution_count": 4,
   "metadata": {},
   "outputs": [],
   "source": [
    "train_homme_dir=os.path.join(train_dir,'homme')\n",
    "if not os.path.exists(train_homme_dir):\n",
    "    os.mkdir(train_homme_dir)\n",
    "\n",
    "train_femme_dir = os.path.join(train_dir, 'femme')\n",
    "if not os.path.exists(train_femme_dir):\n",
    "    os.mkdir(train_femme_dir)\n",
    "    \n",
    "validation_homme_dir=os.path.join(validation_dir,'homme')\n",
    "if not os.path.exists(validation_homme_dir):\n",
    "    os.mkdir(validation_homme_dir)\n",
    "\n",
    "validation_femme_dir = os.path.join(validation_dir, 'femme')\n",
    "if not os.path.exists(validation_femme_dir):\n",
    "    os.mkdir(validation_femme_dir)\n",
    "    \n",
    "test_homme_dir=os.path.join(test_dir,'homme')\n",
    "if not os.path.exists(test_homme_dir):\n",
    "    os.mkdir(test_homme_dir)\n",
    "\n",
    "test_femme_dir = os.path.join(test_dir, 'femme')\n",
    "if not os.path.exists(test_femme_dir):\n",
    "    os.mkdir(test_femme_dir)"
   ]
  },
  {
   "cell_type": "code",
   "execution_count": 5,
   "metadata": {},
   "outputs": [],
   "source": [
    "file= open('D:/Documents/Grad-CAM/labels.csv','r')\n",
    "\n",
    "ligne= file.readlines()\n",
    "\n",
    "file.close()"
   ]
  },
  {
   "cell_type": "code",
   "execution_count": 6,
   "metadata": {},
   "outputs": [
    {
     "name": "stdout",
     "output_type": "stream",
     "text": [
      "1205\n",
      "1205\n"
     ]
    }
   ],
   "source": [
    "nom=[]\n",
    "sexe=[]\n",
    "\n",
    "\n",
    "for i in range (2,len(ligne)):\n",
    "    \n",
    "    li=str(ligne[i]).rstrip('\\n')\n",
    "    liste=li.split(',')\n",
    "    nom.append(liste[0])\n",
    "    sexe.append(liste[8])\n",
    "    \n",
    "print(len(nom))\n",
    "print(len(sexe))"
   ]
  },
  {
   "cell_type": "code",
   "execution_count": 7,
   "metadata": {},
   "outputs": [],
   "source": [
    "# Ajout d'images au dossier d'entrainement\n",
    "for i in range(0, 1000):\n",
    "    fname='img'+nom[i]+'_T1w.png'\n",
    "    src= os.path.join(original_dataset_dir, fname)\n",
    "    if os.path.isfile(src)==True:\n",
    "        if sexe[i]=='1':\n",
    "            src= os.path.join(original_dataset_dir, fname)\n",
    "            dst=os.path.join(train_homme_dir, fname)\n",
    "            shutil.copyfile(src, dst)\n",
    "        else:\n",
    "            src= os.path.join(original_dataset_dir, fname)\n",
    "            dst=os.path.join(train_femme_dir, fname)\n",
    "            shutil.copyfile(src, dst)"
   ]
  },
  {
   "cell_type": "code",
   "execution_count": 8,
   "metadata": {},
   "outputs": [],
   "source": [
    "# Ajout d'images au dossier de validation\n",
    "for i in range(1000, 1100):\n",
    "    fname='img'+nom[i]+'_T1w.png'\n",
    "    src= os.path.join(original_dataset_dir, fname)\n",
    "    if os.path.isfile(src)==True:\n",
    "        if sexe[i]=='1':\n",
    "            src= os.path.join(original_dataset_dir, fname)\n",
    "            dst=os.path.join(validation_homme_dir, fname)\n",
    "            shutil.copyfile(src, dst)\n",
    "        else:\n",
    "            src= os.path.join(original_dataset_dir, fname)\n",
    "            dst=os.path.join(validation_femme_dir, fname)\n",
    "            shutil.copyfile(src, dst)"
   ]
  },
  {
   "cell_type": "code",
   "execution_count": 9,
   "metadata": {},
   "outputs": [],
   "source": [
    "# Ajout d'images au dossier de test\n",
    "for i in range(1100, 1205):\n",
    "    fname='img'+nom[i]+'_T1w.png'\n",
    "    src= os.path.join(original_dataset_dir, fname)\n",
    "    if os.path.isfile(src)==True:\n",
    "        if sexe[i]=='1':\n",
    "            src= os.path.join(original_dataset_dir, fname)\n",
    "            dst=os.path.join(test_homme_dir, fname)\n",
    "            shutil.copyfile(src, dst)\n",
    "        else:\n",
    "            src= os.path.join(original_dataset_dir, fname)\n",
    "            dst=os.path.join(test_femme_dir, fname)\n",
    "            shutil.copyfile(src, dst)"
   ]
  },
  {
   "cell_type": "code",
   "execution_count": 10,
   "metadata": {},
   "outputs": [],
   "source": [
    "from tensorflow.keras.preprocessing.image import ImageDataGenerator"
   ]
  },
  {
   "cell_type": "code",
   "execution_count": 11,
   "metadata": {},
   "outputs": [],
   "source": [
    "train_datagen = ImageDataGenerator(\n",
    "        rescale=1./255,\n",
    "        shear_range=0.2,\n",
    "        zoom_range=0.10,\n",
    "        brightness_range=[0.5,1.5],\n",
    "        #horizontal_flip=True,\n",
    "        rotation_range=5)\n",
    "\n",
    "validation_datagen = ImageDataGenerator(rescale=1./255)\n",
    "test_datagen = ImageDataGenerator(rescale=1./255)"
   ]
  },
  {
   "cell_type": "code",
   "execution_count": 12,
   "metadata": {
    "scrolled": false
   },
   "outputs": [
    {
     "name": "stdout",
     "output_type": "stream",
     "text": [
      "Found 837 images belonging to 2 classes.\n"
     ]
    }
   ],
   "source": [
    "image_size = (150, 150)\n",
    "batch_size = 32\n",
    "\n",
    "training_set = train_datagen.flow_from_directory(\n",
    "    \"cerveaux/train\",\n",
    "    target_size=image_size,\n",
    "    batch_size=batch_size,\n",
    "    class_mode='binary'\n",
    ")"
   ]
  },
  {
   "cell_type": "code",
   "execution_count": 13,
   "metadata": {},
   "outputs": [
    {
     "name": "stdout",
     "output_type": "stream",
     "text": [
      "Found 88 images belonging to 2 classes.\n"
     ]
    }
   ],
   "source": [
    "validation_set = validation_datagen.flow_from_directory(\n",
    "    \"cerveaux/validation\",\n",
    "    target_size=image_size,\n",
    "    batch_size=batch_size,\n",
    "    class_mode='binary'\n",
    ")"
   ]
  },
  {
   "cell_type": "code",
   "execution_count": 14,
   "metadata": {
    "scrolled": true
   },
   "outputs": [
    {
     "name": "stdout",
     "output_type": "stream",
     "text": [
      "Found 84 images belonging to 2 classes.\n"
     ]
    }
   ],
   "source": [
    "test_datagen = ImageDataGenerator(rescale=1./255)\n",
    "\n",
    "test_set = test_datagen.flow_from_directory(\n",
    "    \"cerveaux/test\",\n",
    "    target_size=image_size,\n",
    "    batch_size=batch_size,\n",
    "    class_mode='binary',\n",
    "    shuffle=False\n",
    ")"
   ]
  },
  {
   "cell_type": "markdown",
   "metadata": {},
   "source": [
    "## Définition du modèle"
   ]
  },
  {
   "cell_type": "code",
   "execution_count": 31,
   "metadata": {
    "scrolled": false
   },
   "outputs": [],
   "source": [
    "from tensorflow.keras import layers\n",
    "from tensorflow.keras import models\n",
    "\n",
    "model = models.Sequential()\n",
    "model.add(layers.Conv2D(32, (3,3),activation='relu', input_shape=(150,150,3)))\n",
    "model.add(layers.MaxPooling2D((2,2)))\n",
    "model.add(layers.Conv2D(64, (3,3), activation ='relu'))\n",
    "model.add(layers.MaxPooling2D((2,2)))\n",
    "model.add(layers.Conv2D(128, (3,3), activation ='relu'))\n",
    "model.add(layers.MaxPooling2D((2,2)))\n",
    "\n",
    "model.add(layers.Flatten())\n",
    "model.add(layers.Dense(128, activation='relu'))\n",
    "model.add(layers.Dense(64, activation='relu'))\n",
    "model.add(layers.Dense(1, activation='sigmoid'))"
   ]
  },
  {
   "cell_type": "code",
   "execution_count": 32,
   "metadata": {
    "scrolled": false
   },
   "outputs": [
    {
     "name": "stdout",
     "output_type": "stream",
     "text": [
      "Model: \"sequential_1\"\n",
      "_________________________________________________________________\n",
      "Layer (type)                 Output Shape              Param #   \n",
      "=================================================================\n",
      "conv2d_3 (Conv2D)            (None, 148, 148, 32)      896       \n",
      "_________________________________________________________________\n",
      "max_pooling2d_3 (MaxPooling2 (None, 74, 74, 32)        0         \n",
      "_________________________________________________________________\n",
      "conv2d_4 (Conv2D)            (None, 72, 72, 64)        18496     \n",
      "_________________________________________________________________\n",
      "max_pooling2d_4 (MaxPooling2 (None, 36, 36, 64)        0         \n",
      "_________________________________________________________________\n",
      "conv2d_5 (Conv2D)            (None, 34, 34, 128)       73856     \n",
      "_________________________________________________________________\n",
      "max_pooling2d_5 (MaxPooling2 (None, 17, 17, 128)       0         \n",
      "_________________________________________________________________\n",
      "flatten_1 (Flatten)          (None, 36992)             0         \n",
      "_________________________________________________________________\n",
      "dense_3 (Dense)              (None, 128)               4735104   \n",
      "_________________________________________________________________\n",
      "dense_4 (Dense)              (None, 64)                8256      \n",
      "_________________________________________________________________\n",
      "dense_5 (Dense)              (None, 1)                 65        \n",
      "=================================================================\n",
      "Total params: 4,836,673\n",
      "Trainable params: 4,836,673\n",
      "Non-trainable params: 0\n",
      "_________________________________________________________________\n"
     ]
    }
   ],
   "source": [
    "model.summary()"
   ]
  },
  {
   "cell_type": "code",
   "execution_count": 33,
   "metadata": {
    "scrolled": false
   },
   "outputs": [
    {
     "name": "stdout",
     "output_type": "stream",
     "text": [
      "Epoch 1/10\n",
      "27/27 [==============================] - 24s 891ms/step - loss: 0.5744 - tp: 335.0000 - fp: 127.0000 - tn: 255.0000 - fn: 120.0000 - accuracy: 0.7049 - precision: 0.7251 - recall: 0.7363 - auc: 0.7689 - val_loss: 0.4387 - val_tp: 43.0000 - val_fp: 10.0000 - val_tn: 31.0000 - val_fn: 4.0000 - val_accuracy: 0.8409 - val_precision: 0.8113 - val_recall: 0.9149 - val_auc: 0.9037\n",
      "Epoch 2/10\n",
      "27/27 [==============================] - 23s 857ms/step - loss: 0.4604 - tp: 368.0000 - fp: 89.0000 - tn: 293.0000 - fn: 87.0000 - accuracy: 0.7897 - precision: 0.8053 - recall: 0.8088 - auc: 0.8632 - val_loss: 0.3780 - val_tp: 44.0000 - val_fp: 8.0000 - val_tn: 33.0000 - val_fn: 3.0000 - val_accuracy: 0.8750 - val_precision: 0.8462 - val_recall: 0.9362 - val_auc: 0.9245\n",
      "Epoch 3/10\n",
      "27/27 [==============================] - 23s 841ms/step - loss: 0.3517 - tp: 402.0000 - fp: 67.0000 - tn: 315.0000 - fn: 53.0000 - accuracy: 0.8566 - precision: 0.8571 - recall: 0.8835 - auc: 0.9245 - val_loss: 0.3340 - val_tp: 46.0000 - val_fp: 8.0000 - val_tn: 33.0000 - val_fn: 1.0000 - val_accuracy: 0.8977 - val_precision: 0.8519 - val_recall: 0.9787 - val_auc: 0.9512\n",
      "Epoch 4/10\n",
      "27/27 [==============================] - 23s 849ms/step - loss: 0.2870 - tp: 409.0000 - fp: 54.0000 - tn: 328.0000 - fn: 46.0000 - accuracy: 0.8805 - precision: 0.8834 - recall: 0.8989 - auc: 0.9502 - val_loss: 0.3876 - val_tp: 32.0000 - val_fp: 1.0000 - val_tn: 40.0000 - val_fn: 15.0000 - val_accuracy: 0.8182 - val_precision: 0.9697 - val_recall: 0.6809 - val_auc: 0.9642\n",
      "Epoch 5/10\n",
      "27/27 [==============================] - 23s 847ms/step - loss: 0.2431 - tp: 419.0000 - fp: 39.0000 - tn: 343.0000 - fn: 36.0000 - accuracy: 0.9104 - precision: 0.9148 - recall: 0.9209 - auc: 0.9639 - val_loss: 0.2176 - val_tp: 43.0000 - val_fp: 3.0000 - val_tn: 38.0000 - val_fn: 4.0000 - val_accuracy: 0.9205 - val_precision: 0.9348 - val_recall: 0.9149 - val_auc: 0.9738\n",
      "Epoch 6/10\n",
      "27/27 [==============================] - 23s 844ms/step - loss: 0.1842 - tp: 427.0000 - fp: 30.0000 - tn: 352.0000 - fn: 28.0000 - accuracy: 0.9307 - precision: 0.9344 - recall: 0.9385 - auc: 0.9802 - val_loss: 0.1679 - val_tp: 44.0000 - val_fp: 2.0000 - val_tn: 39.0000 - val_fn: 3.0000 - val_accuracy: 0.9432 - val_precision: 0.9565 - val_recall: 0.9362 - val_auc: 0.9772\n",
      "Epoch 7/10\n",
      "27/27 [==============================] - 23s 848ms/step - loss: 0.1732 - tp: 434.0000 - fp: 28.0000 - tn: 354.0000 - fn: 21.0000 - accuracy: 0.9415 - precision: 0.9394 - recall: 0.9538 - auc: 0.9793 - val_loss: 0.1431 - val_tp: 47.0000 - val_fp: 3.0000 - val_tn: 38.0000 - val_fn: 0.0000e+00 - val_accuracy: 0.9659 - val_precision: 0.9400 - val_recall: 1.0000 - val_auc: 0.9787\n",
      "Epoch 8/10\n",
      "27/27 [==============================] - 22s 826ms/step - loss: 0.1494 - tp: 434.0000 - fp: 20.0000 - tn: 362.0000 - fn: 21.0000 - accuracy: 0.9510 - precision: 0.9559 - recall: 0.9538 - auc: 0.9848 - val_loss: 0.1347 - val_tp: 47.0000 - val_fp: 4.0000 - val_tn: 37.0000 - val_fn: 0.0000e+00 - val_accuracy: 0.9545 - val_precision: 0.9216 - val_recall: 1.0000 - val_auc: 0.9774\n",
      "Epoch 9/10\n",
      "27/27 [==============================] - 23s 844ms/step - loss: 0.1121 - tp: 445.0000 - fp: 15.0000 - tn: 367.0000 - fn: 10.0000 - accuracy: 0.9701 - precision: 0.9674 - recall: 0.9780 - auc: 0.9903 - val_loss: 0.1755 - val_tp: 43.0000 - val_fp: 1.0000 - val_tn: 40.0000 - val_fn: 4.0000 - val_accuracy: 0.9432 - val_precision: 0.9773 - val_recall: 0.9149 - val_auc: 0.9746\n",
      "Epoch 10/10\n",
      "27/27 [==============================] - 23s 848ms/step - loss: 0.0816 - tp: 444.0000 - fp: 9.0000 - tn: 373.0000 - fn: 11.0000 - accuracy: 0.9761 - precision: 0.9801 - recall: 0.9758 - auc: 0.9940 - val_loss: 0.1752 - val_tp: 42.0000 - val_fp: 1.0000 - val_tn: 40.0000 - val_fn: 5.0000 - val_accuracy: 0.9318 - val_precision: 0.9767 - val_recall: 0.8936 - val_auc: 0.9790\n"
     ]
    }
   ],
   "source": [
    "epochs = 10\n",
    "\n",
    "METRICS = [\n",
    "      keras.metrics.TruePositives(name='tp'),\n",
    "      keras.metrics.FalsePositives(name='fp'),\n",
    "      keras.metrics.TrueNegatives(name='tn'),\n",
    "      keras.metrics.FalseNegatives(name='fn'), \n",
    "      keras.metrics.BinaryAccuracy(name='accuracy'),\n",
    "      keras.metrics.Precision(name='precision'),\n",
    "      keras.metrics.Recall(name='recall'),\n",
    "      keras.metrics.AUC(name='auc'),\n",
    "]\n",
    "\n",
    "model.compile(optimizer=\"adam\", loss=\"binary_crossentropy\", metrics=METRICS)\n",
    "\n",
    "history = model.fit(x = training_set, validation_data=validation_set, shuffle=True, epochs=epochs)"
   ]
  },
  {
   "cell_type": "code",
   "execution_count": 34,
   "metadata": {},
   "outputs": [
    {
     "data": {
      "image/png": "[encoded data removed]",
      "text/plain": [
       "<Figure size 432x288 with 1 Axes>"
      ]
     },
     "metadata": {
      "needs_background": "light"
     },
     "output_type": "display_data"
    },
    {
     "data": {
      "image/png": "[encoded data removed]",
      "text/plain": [
       "<Figure size 432x288 with 1 Axes>"
      ]
     },
     "metadata": {
      "needs_background": "light"
     },
     "output_type": "display_data"
    }
   ],
   "source": [
    "import matplotlib.pyplot as plt\n",
    "\n",
    "acc= history.history['accuracy']\n",
    "val_acc = history.history['val_accuracy']\n",
    "loss= history.history['loss']\n",
    "val_loss= history.history['val_loss']\n",
    "\n",
    "epochs= range(1, len(acc)+1)\n",
    "\n",
    "plt.plot(epochs, acc, 'bo', label='entrainement')\n",
    "plt.plot(epochs, val_acc,'b', label='validation')\n",
    "plt.title('Exactitude pendant l\\'entrainement et la validation')\n",
    "plt.legend()\n",
    "\n",
    "plt.figure()\n",
    "plt.plot(epochs, loss, 'bo', label='entrainement')\n",
    "plt.plot(epochs, val_loss, 'b', label='validation')\n",
    "plt.title('Perte pendant l\\'entrainement et la validation')\n",
    "plt.legend()\n",
    "plt.show()"
   ]
  },
  {
   "cell_type": "code",
   "execution_count": 35,
   "metadata": {},
   "outputs": [
    {
     "name": "stdout",
     "output_type": "stream",
     "text": [
      "3/3 [==============================] - 1s 367ms/step - loss: 0.0552 - tp: 38.0000 - fp: 1.0000 - tn: 44.0000 - fn: 1.0000 - accuracy: 0.9762 - precision: 0.9744 - recall: 0.9744 - auc: 0.9983           \n"
     ]
    }
   ],
   "source": [
    "test_loss, test_tp, test_fp, test_tn, test_fn, test_acc, test_prec, test_recall, test_auc = model.evaluate(test_set)"
   ]
  },
  {
   "cell_type": "code",
   "execution_count": 36,
   "metadata": {},
   "outputs": [
    {
     "name": "stdout",
     "output_type": "stream",
     "text": [
      "0.055195312947034836 38.0 1.0 44.0 1.0 0.976190447807312 0.9743589758872986 0.9743589758872986 0.9982905983924866\n"
     ]
    }
   ],
   "source": [
    "print(test_loss, test_tp, test_fp, test_tn, test_fn, test_acc, test_prec, test_recall, test_auc)"
   ]
  },
  {
   "cell_type": "code",
   "execution_count": 37,
   "metadata": {
    "scrolled": true
   },
   "outputs": [
    {
     "name": "stdout",
     "output_type": "stream",
     "text": [
      "[[0.93877184]]\n"
     ]
    }
   ],
   "source": [
    "from keras.preprocessing import image\n",
    "\n",
    "test_image = image.load_img('./cerveaux/test/homme/img920655_T1w.png', target_size = (150, 150))\n",
    "test_image = image.img_to_array(test_image)/255.\n",
    "test_image = np.expand_dims(test_image, axis=0)\n",
    "\n",
    "prediction = model.predict_on_batch(test_image)\n",
    "print(prediction)"
   ]
  },
  {
   "cell_type": "code",
   "execution_count": 38,
   "metadata": {},
   "outputs": [],
   "source": [
    "y_true_labels = test_set.classes\n",
    "true_labels = []\n",
    "\n",
    "for label in y_true_labels:\n",
    "    true_labels.append(np.array([np.float32(label)]))"
   ]
  },
  {
   "cell_type": "code",
   "execution_count": 39,
   "metadata": {},
   "outputs": [],
   "source": [
    "preds = model.predict(test_set)"
   ]
  },
  {
   "cell_type": "code",
   "execution_count": 40,
   "metadata": {},
   "outputs": [],
   "source": [
    "from sklearn.metrics import roc_curve, auc"
   ]
  },
  {
   "cell_type": "code",
   "execution_count": 41,
   "metadata": {},
   "outputs": [],
   "source": [
    "fpr, tpr, _ = roc_curve(true_labels, preds.tolist())\n",
    "auc = auc(fpr, tpr)"
   ]
  },
  {
   "cell_type": "code",
   "execution_count": 42,
   "metadata": {},
   "outputs": [
    {
     "data": {
      "image/png": "[encoded data removed]",
      "text/plain": [
       "<Figure size 432x288 with 1 Axes>"
      ]
     },
     "metadata": {
      "needs_background": "light"
     },
     "output_type": "display_data"
    }
   ],
   "source": [
    "plt.figure(1)\n",
    "plt.plot([0, 1], [0, 1], 'k--')\n",
    "plt.plot(fpr, tpr, label='Keras (area = {:.3f})'.format(auc))\n",
    "plt.xlabel('False positive rate')\n",
    "plt.ylabel('True positive rate')\n",
    "plt.title('ROC curve')\n",
    "plt.legend(loc='best')\n",
    "plt.show()"
   ]
  },
  {
   "cell_type": "markdown",
   "metadata": {},
   "source": [
    "# Sauvegarde du modèle"
   ]
  },
  {
   "cell_type": "code",
   "execution_count": 43,
   "metadata": {},
   "outputs": [
    {
     "name": "stdout",
     "output_type": "stream",
     "text": [
      "INFO:tensorflow:Assets written to: D:/Documents/Grad-CAM/models/4_couches_adam_97_34_binary\\assets\n"
     ]
    }
   ],
   "source": [
    "model.save('D:/Documents/Grad-CAM/models/4_couches_adam_97_62_binary')"
   ]
  },
  {
   "cell_type": "markdown",
   "metadata": {},
   "source": [
    "### Pour juste loader le modèle"
   ]
  },
  {
   "cell_type": "code",
   "execution_count": null,
   "metadata": {},
   "outputs": [],
   "source": [
    "import tensorflow as tf\n",
    "from tensorflow import keras\n",
    "\n",
    "model = keras.models.load_model('D:/Documents/Grad-CAM/models/4_couches_adam_98_07_categorical')"
   ]
  },
  {
   "cell_type": "markdown",
   "metadata": {},
   "source": [
    "# Grad-CAM"
   ]
  },
  {
   "cell_type": "markdown",
   "metadata": {},
   "source": [
    "#### https://gist.github.com/RaphaelMeudec/e9a805fa82880876f8d89766f0690b54"
   ]
  },
  {
   "cell_type": "code",
   "execution_count": null,
   "metadata": {},
   "outputs": [],
   "source": [
    "import cv2\n",
    "import numpy as np\n",
    "import tensorflow as tf\n",
    "from tensorflow import keras\n",
    "\n",
    "physical_devices = tf.config.list_physical_devices('GPU')\n",
    "\n",
    "tf.config.experimental.set_memory_growth(physical_devices[0], True)"
   ]
  },
  {
   "cell_type": "code",
   "execution_count": null,
   "metadata": {},
   "outputs": [],
   "source": [
    "#IMAGE_PATH = './cerveaux/test/homme/img829294_T1w.png'\n",
    "#IMAGE_PATH = './cerveaux/test/homme/img826881_T1w.png'\n",
    "IMAGE_PATH = './cerveaux/test/femme/img824760_T1w.png'\n",
    "#IMAGE_PATH = './cerveaux/test/homme/img829294_T1w.png'\n",
    "#IMAGE_PATH = './cerveaux/test/homme/img829294_T1w.png'\n",
    "#IMAGE_PATH = './cerveaux/test/homme/img829294_T1w.png'\n",
    "#IMAGE_PATH = './cerveaux/test/homme/img829294_T1w.png'\n",
    "#IMAGE_PATH = './cerveaux/test/homme/img829294_T1w.png'\n",
    "LAYER_NAME = 'conv2d_10'\n",
    "HOMME_CLASS_INDEX = 1\n",
    "FEMME_CLASS_INDEX = 0\n",
    "\n",
    "img = tf.keras.preprocessing.image.load_img(IMAGE_PATH, target_size=(150, 150))\n",
    "img = tf.keras.preprocessing.image.img_to_array(img)/255.\n",
    "\n",
    "model = keras.models.load_model('D:/Documents/Grad-CAM/models/4_couches_adam_98_07_categorical')\n",
    "\n",
    "grad_model = tf.keras.models.Model([model.inputs], [model.get_layer(LAYER_NAME).output, model.output])\n",
    "\n",
    "with tf.GradientTape() as tape:\n",
    "    conv_outputs, predictions = grad_model(np.array([img]))\n",
    "    loss = predictions[:, HOMME_CLASS_INDEX]\n",
    "\n",
    "output = conv_outputs[0]\n",
    "grads = tape.gradient(loss, conv_outputs)[0]\n",
    "\n",
    "gate_f = tf.cast(output > 0, 'float32')\n",
    "gate_r = tf.cast(grads > 0, 'float32')\n",
    "guided_grads = tf.cast(output > 0, 'float32') * tf.cast(grads > 0, 'float32') * grads\n",
    "\n",
    "weights = tf.reduce_mean(guided_grads, axis=(0, 1))\n",
    "\n",
    "cam = np.ones(output.shape[0: 2], dtype = np.float32)\n",
    "\n",
    "for i, w in enumerate(weights):\n",
    "    cam += w * output[:, :, i]\n",
    "\n",
    "cam = cv2.resize(cam.numpy(), (150, 150))\n",
    "cam = np.maximum(cam, 0)\n",
    "heatmap = (cam - cam.min()) / (cam.max() - cam.min())\n",
    "\n",
    "cam = cv2.applyColorMap(np.uint8(255*heatmap), cv2.COLORMAP_JET)\n",
    "\n",
    "output_image = cv2.addWeighted(cv2.cvtColor(img.astype('uint8'), cv2.COLOR_RGB2BGR), 0.5, cam, 1, 0)\n",
    "\n",
    "cv2.imwrite('cam.png', output_image)"
   ]
  },
  {
   "cell_type": "code",
   "execution_count": null,
   "metadata": {},
   "outputs": [],
   "source": [
    "predictions.numpy()"
   ]
  },
  {
   "cell_type": "code",
   "execution_count": null,
   "metadata": {},
   "outputs": [],
   "source": [
    "model.summary()"
   ]
  },
  {
   "cell_type": "code",
   "execution_count": null,
   "metadata": {},
   "outputs": [],
   "source": []
  }
 ],
 "metadata": {
  "kernelspec": {
   "display_name": "Python 3",
   "language": "python",
   "name": "python3"
  },
  "language_info": {
   "codemirror_mode": {
    "name": "ipython",
    "version": 3
   },
   "file_extension": ".py",
   "mimetype": "text/x-python",
   "name": "python",
   "nbconvert_exporter": "python",
   "pygments_lexer": "ipython3",
   "version": "3.7.4"
  }
 },
 "nbformat": 4,
 "nbformat_minor": 4
}
