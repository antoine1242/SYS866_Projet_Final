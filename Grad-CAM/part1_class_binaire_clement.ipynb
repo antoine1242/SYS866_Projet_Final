{
 "cells": [
  {
   "cell_type": "code",
   "execution_count": 1,
   "metadata": {},
   "outputs": [
    {
     "name": "stderr",
     "output_type": "stream",
     "text": [
      "C:\\Users\\eiser\\anaconda3\\lib\\site-packages\\tensorflow\\python\\framework\\dtypes.py:516: FutureWarning: Passing (type, 1) or '1type' as a synonym of type is deprecated; in a future version of numpy, it will be understood as (type, (1,)) / '(1,)type'.\n",
      "  _np_qint8 = np.dtype([(\"qint8\", np.int8, 1)])\n",
      "C:\\Users\\eiser\\anaconda3\\lib\\site-packages\\tensorflow\\python\\framework\\dtypes.py:517: FutureWarning: Passing (type, 1) or '1type' as a synonym of type is deprecated; in a future version of numpy, it will be understood as (type, (1,)) / '(1,)type'.\n",
      "  _np_quint8 = np.dtype([(\"quint8\", np.uint8, 1)])\n",
      "C:\\Users\\eiser\\anaconda3\\lib\\site-packages\\tensorflow\\python\\framework\\dtypes.py:518: FutureWarning: Passing (type, 1) or '1type' as a synonym of type is deprecated; in a future version of numpy, it will be understood as (type, (1,)) / '(1,)type'.\n",
      "  _np_qint16 = np.dtype([(\"qint16\", np.int16, 1)])\n",
      "C:\\Users\\eiser\\anaconda3\\lib\\site-packages\\tensorflow\\python\\framework\\dtypes.py:519: FutureWarning: Passing (type, 1) or '1type' as a synonym of type is deprecated; in a future version of numpy, it will be understood as (type, (1,)) / '(1,)type'.\n",
      "  _np_quint16 = np.dtype([(\"quint16\", np.uint16, 1)])\n",
      "C:\\Users\\eiser\\anaconda3\\lib\\site-packages\\tensorflow\\python\\framework\\dtypes.py:520: FutureWarning: Passing (type, 1) or '1type' as a synonym of type is deprecated; in a future version of numpy, it will be understood as (type, (1,)) / '(1,)type'.\n",
      "  _np_qint32 = np.dtype([(\"qint32\", np.int32, 1)])\n",
      "C:\\Users\\eiser\\anaconda3\\lib\\site-packages\\tensorflow\\python\\framework\\dtypes.py:525: FutureWarning: Passing (type, 1) or '1type' as a synonym of type is deprecated; in a future version of numpy, it will be understood as (type, (1,)) / '(1,)type'.\n",
      "  np_resource = np.dtype([(\"resource\", np.ubyte, 1)])\n",
      "C:\\Users\\eiser\\anaconda3\\lib\\site-packages\\tensorboard\\compat\\tensorflow_stub\\dtypes.py:541: FutureWarning: Passing (type, 1) or '1type' as a synonym of type is deprecated; in a future version of numpy, it will be understood as (type, (1,)) / '(1,)type'.\n",
      "  _np_qint8 = np.dtype([(\"qint8\", np.int8, 1)])\n",
      "C:\\Users\\eiser\\anaconda3\\lib\\site-packages\\tensorboard\\compat\\tensorflow_stub\\dtypes.py:542: FutureWarning: Passing (type, 1) or '1type' as a synonym of type is deprecated; in a future version of numpy, it will be understood as (type, (1,)) / '(1,)type'.\n",
      "  _np_quint8 = np.dtype([(\"quint8\", np.uint8, 1)])\n",
      "C:\\Users\\eiser\\anaconda3\\lib\\site-packages\\tensorboard\\compat\\tensorflow_stub\\dtypes.py:543: FutureWarning: Passing (type, 1) or '1type' as a synonym of type is deprecated; in a future version of numpy, it will be understood as (type, (1,)) / '(1,)type'.\n",
      "  _np_qint16 = np.dtype([(\"qint16\", np.int16, 1)])\n",
      "C:\\Users\\eiser\\anaconda3\\lib\\site-packages\\tensorboard\\compat\\tensorflow_stub\\dtypes.py:544: FutureWarning: Passing (type, 1) or '1type' as a synonym of type is deprecated; in a future version of numpy, it will be understood as (type, (1,)) / '(1,)type'.\n",
      "  _np_quint16 = np.dtype([(\"quint16\", np.uint16, 1)])\n",
      "C:\\Users\\eiser\\anaconda3\\lib\\site-packages\\tensorboard\\compat\\tensorflow_stub\\dtypes.py:545: FutureWarning: Passing (type, 1) or '1type' as a synonym of type is deprecated; in a future version of numpy, it will be understood as (type, (1,)) / '(1,)type'.\n",
      "  _np_qint32 = np.dtype([(\"qint32\", np.int32, 1)])\n",
      "C:\\Users\\eiser\\anaconda3\\lib\\site-packages\\tensorboard\\compat\\tensorflow_stub\\dtypes.py:550: FutureWarning: Passing (type, 1) or '1type' as a synonym of type is deprecated; in a future version of numpy, it will be understood as (type, (1,)) / '(1,)type'.\n",
      "  np_resource = np.dtype([(\"resource\", np.ubyte, 1)])\n"
     ]
    }
   ],
   "source": [
    "import tensorflow as tf"
   ]
  },
  {
   "cell_type": "code",
   "execution_count": 2,
   "metadata": {},
   "outputs": [
    {
     "name": "stdout",
     "output_type": "stream",
     "text": [
      "WARNING:tensorflow:From C:\\Users\\eiser\\anaconda3\\lib\\site-packages\\keras\\backend\\tensorflow_backend.py:4070: The name tf.nn.max_pool is deprecated. Please use tf.nn.max_pool2d instead.\n",
      "\n"
     ]
    },
    {
     "name": "stderr",
     "output_type": "stream",
     "text": [
      "Using TensorFlow backend.\n"
     ]
    }
   ],
   "source": [
    "from keras import layers\n",
    "from keras import models\n",
    "\n",
    "model = models.Sequential()\n",
    "model.add(layers.Conv2D(32, (3,3),activation='relu', input_shape=(150,150,3)))\n",
    "model.add(layers.MaxPooling2D((2,2)))\n",
    "model.add(layers.Conv2D(64, (3,3), activation ='relu'))\n",
    "model.add(layers.MaxPooling2D((2,2)))\n",
    "model.add(layers.Conv2D(128, (3,3), activation ='relu'))\n",
    "model.add(layers.MaxPooling2D((2,2)))\n",
    "model.add(layers.Conv2D(128, (3,3), activation ='relu'))\n",
    "model.add(layers.MaxPooling2D((2,2)))\n",
    "\n",
    "model.add(layers.Flatten())\n",
    "model.add(layers.Dense(512, activation='relu'))\n",
    "model.add(layers.Dense(1, activation='sigmoid'))"
   ]
  },
  {
   "cell_type": "code",
   "execution_count": 3,
   "metadata": {},
   "outputs": [
    {
     "name": "stdout",
     "output_type": "stream",
     "text": [
      "Model: \"sequential_1\"\n",
      "_________________________________________________________________\n",
      "Layer (type)                 Output Shape              Param #   \n",
      "=================================================================\n",
      "conv2d_1 (Conv2D)            (None, 148, 148, 32)      896       \n",
      "_________________________________________________________________\n",
      "max_pooling2d_1 (MaxPooling2 (None, 74, 74, 32)        0         \n",
      "_________________________________________________________________\n",
      "conv2d_2 (Conv2D)            (None, 72, 72, 64)        18496     \n",
      "_________________________________________________________________\n",
      "max_pooling2d_2 (MaxPooling2 (None, 36, 36, 64)        0         \n",
      "_________________________________________________________________\n",
      "conv2d_3 (Conv2D)            (None, 34, 34, 128)       73856     \n",
      "_________________________________________________________________\n",
      "max_pooling2d_3 (MaxPooling2 (None, 17, 17, 128)       0         \n",
      "_________________________________________________________________\n",
      "conv2d_4 (Conv2D)            (None, 15, 15, 128)       147584    \n",
      "_________________________________________________________________\n",
      "max_pooling2d_4 (MaxPooling2 (None, 7, 7, 128)         0         \n",
      "_________________________________________________________________\n",
      "flatten_1 (Flatten)          (None, 6272)              0         \n",
      "_________________________________________________________________\n",
      "dense_1 (Dense)              (None, 512)               3211776   \n",
      "_________________________________________________________________\n",
      "dense_2 (Dense)              (None, 1)                 513       \n",
      "=================================================================\n",
      "Total params: 3,453,121\n",
      "Trainable params: 3,453,121\n",
      "Non-trainable params: 0\n",
      "_________________________________________________________________\n"
     ]
    }
   ],
   "source": [
    "model.summary()"
   ]
  },
  {
   "cell_type": "code",
   "execution_count": 4,
   "metadata": {},
   "outputs": [
    {
     "name": "stdout",
     "output_type": "stream",
     "text": [
      "WARNING:tensorflow:From C:\\Users\\eiser\\anaconda3\\lib\\site-packages\\tensorflow\\python\\ops\\nn_impl.py:180: add_dispatch_support.<locals>.wrapper (from tensorflow.python.ops.array_ops) is deprecated and will be removed in a future version.\n",
      "Instructions for updating:\n",
      "Use tf.where in 2.0, which has the same broadcast rule as np.where\n"
     ]
    }
   ],
   "source": [
    "from keras import optimizers \n",
    "\n",
    "model.compile(loss='binary_crossentropy',optimizer=optimizers.RMSprop(lr=1e-4),metrics=['acc'])"
   ]
  },
  {
   "cell_type": "code",
   "execution_count": 9,
   "metadata": {},
   "outputs": [],
   "source": [
    "chemin_d_acces= '/Users/eiser/Desktop/data/HCP_SYS866_2020/HCP_SYS866_2020/'"
   ]
  },
  {
   "cell_type": "code",
   "execution_count": 7,
   "metadata": {},
   "outputs": [],
   "source": [
    "import numpy as np"
   ]
  },
  {
   "cell_type": "code",
   "execution_count": 10,
   "metadata": {
    "scrolled": true
   },
   "outputs": [
    {
     "ename": "ValueError",
     "evalue": "Cannot load file containing pickled data when allow_pickle=False",
     "output_type": "error",
     "traceback": [
      "\u001b[1;31m---------------------------------------------------------------------------\u001b[0m",
      "\u001b[1;31mValueError\u001b[0m                                Traceback (most recent call last)",
      "\u001b[1;32m<ipython-input-10-609e196a3658>\u001b[0m in \u001b[0;36m<module>\u001b[1;34m\u001b[0m\n\u001b[1;32m----> 1\u001b[1;33m \u001b[0mx\u001b[0m\u001b[1;33m=\u001b[0m\u001b[0mnp\u001b[0m\u001b[1;33m.\u001b[0m\u001b[0mload\u001b[0m\u001b[1;33m(\u001b[0m\u001b[0mchemin_d_acces\u001b[0m\u001b[1;33m+\u001b[0m\u001b[1;34m'img100019_T1w.png'\u001b[0m\u001b[1;33m)\u001b[0m\u001b[1;33m\u001b[0m\u001b[1;33m\u001b[0m\u001b[0m\n\u001b[0m",
      "\u001b[1;32m~\\anaconda3\\lib\\site-packages\\numpy\\lib\\npyio.py\u001b[0m in \u001b[0;36mload\u001b[1;34m(file, mmap_mode, allow_pickle, fix_imports, encoding)\u001b[0m\n\u001b[0;32m    455\u001b[0m             \u001b[1;31m# Try a pickle\u001b[0m\u001b[1;33m\u001b[0m\u001b[1;33m\u001b[0m\u001b[1;33m\u001b[0m\u001b[0m\n\u001b[0;32m    456\u001b[0m             \u001b[1;32mif\u001b[0m \u001b[1;32mnot\u001b[0m \u001b[0mallow_pickle\u001b[0m\u001b[1;33m:\u001b[0m\u001b[1;33m\u001b[0m\u001b[1;33m\u001b[0m\u001b[0m\n\u001b[1;32m--> 457\u001b[1;33m                 raise ValueError(\"Cannot load file containing pickled data \"\n\u001b[0m\u001b[0;32m    458\u001b[0m                                  \"when allow_pickle=False\")\n\u001b[0;32m    459\u001b[0m             \u001b[1;32mtry\u001b[0m\u001b[1;33m:\u001b[0m\u001b[1;33m\u001b[0m\u001b[1;33m\u001b[0m\u001b[0m\n",
      "\u001b[1;31mValueError\u001b[0m: Cannot load file containing pickled data when allow_pickle=False"
     ]
    }
   ],
   "source": [
    "#x=np.load(chemin_d_acces+'img100019_T1w.png')"
   ]
  },
  {
   "cell_type": "code",
   "execution_count": 11,
   "metadata": {},
   "outputs": [
    {
     "data": {
      "text/plain": [
       "'cat.4.jpg'"
      ]
     },
     "execution_count": 11,
     "metadata": {},
     "output_type": "execute_result"
    }
   ],
   "source": [
    "i=4\n",
    "'cat.{}.jpg'.format(i)\n"
   ]
  },
  {
   "cell_type": "code",
   "execution_count": 13,
   "metadata": {},
   "outputs": [],
   "source": [
    "import os, shutil \n",
    "\n",
    "original_dataset_dir= '/Users/eiser/Desktop/data/HCP_SYS866_2020/HCP_SYS866_2020/'\n",
    "\n",
    "base_dir='/Users/eiser/Desktop/cerveau'\n",
    "os.mkdir(base_dir)"
   ]
  },
  {
   "cell_type": "code",
   "execution_count": 14,
   "metadata": {},
   "outputs": [],
   "source": [
    "train_dir=os.path.join(base_dir,'train')\n",
    "os.mkdir(train_dir)\n",
    "\n",
    "validation_dir=os.path.join(base_dir,'validation')\n",
    "os.mkdir(validation_dir)\n",
    "\n",
    "test_dir=os.path.join(base_dir,'test')\n",
    "os.mkdir(test_dir)"
   ]
  },
  {
   "cell_type": "code",
   "execution_count": 15,
   "metadata": {},
   "outputs": [],
   "source": [
    "train_homme_dir=os.path.join(train_dir,'homme')\n",
    "os.mkdir(train_homme_dir)\n",
    "\n",
    "train_femme_dir = os.path.join(train_dir, 'femme')\n",
    "os.mkdir(train_femme_dir)\n",
    "\n",
    "validation_homme_dir = os.path.join(validation_dir,'homme')\n",
    "os.mkdir(validation_homme_dir)\n",
    "\n",
    "validation_femme_dir = os.path.join(validation_dir,'femme')\n",
    "os.mkdir(validation_femme_dir)\n",
    "\n",
    "test_homme_dir = os.path.join(test_dir,'homme')\n",
    "os.mkdir(test_homme_dir)\n",
    "\n",
    "test_femme_dir = os.path.join(test_dir,'femme')\n",
    "os.mkdir(test_femme_dir)\n"
   ]
  },
  {
   "cell_type": "code",
   "execution_count": 87,
   "metadata": {},
   "outputs": [],
   "source": [
    "file= open('/Users/eiser/Desktop/saluts.txt','r')\n",
    "\n",
    "ligne= file.readlines()\n",
    "\n",
    "\n"
   ]
  },
  {
   "cell_type": "code",
   "execution_count": 88,
   "metadata": {},
   "outputs": [
    {
     "name": "stdout",
     "output_type": "stream",
     "text": [
      "1201\n",
      "1201\n"
     ]
    }
   ],
   "source": [
    "nom=[]\n",
    "sexe=[]\n",
    "\n",
    "\n",
    "for i in range (2,len(ligne)):\n",
    "    \n",
    "    li=str(ligne[i]).rstrip('\\n')\n",
    "    liste=li.split(',')\n",
    "    nom.append(liste[0])\n",
    "    sexe.append(liste[8])\n",
    "    \n",
    "print(len(nom))\n",
    "print(len(sexe))"
   ]
  },
  {
   "cell_type": "code",
   "execution_count": 89,
   "metadata": {},
   "outputs": [],
   "source": [
    "file.close()"
   ]
  },
  {
   "cell_type": "code",
   "execution_count": 93,
   "metadata": {},
   "outputs": [],
   "source": [
    "\n",
    "    \n",
    "    \n",
    "for i in range(800):\n",
    "    fname='img'+nom[i]+'_T1w.png'\n",
    "    src= os.path.join(original_dataset_dir, fname)\n",
    "    if os.path.isfile(src)==True:\n",
    "        if sexe[i]=='1':\n",
    "            src= os.path.join(original_dataset_dir, fname)\n",
    "            dst=os.path.join(train_homme_dir, fname)\n",
    "            shutil.copyfile(src, dst)\n",
    "        else:\n",
    "            src= os.path.join(original_dataset_dir, fname)\n",
    "            dst=os.path.join(train_femme_dir, fname)\n",
    "            shutil.copyfile(src, dst)\n",
    "    \n",
    "        "
   ]
  },
  {
   "cell_type": "code",
   "execution_count": 94,
   "metadata": {},
   "outputs": [],
   "source": [
    "for i in range(800,960):\n",
    "    fname='img'+nom[i]+'_T1w.png'\n",
    "    src= os.path.join(original_dataset_dir, fname)\n",
    "    if os.path.isfile(src)==True:\n",
    "        if sexe[i]=='1':\n",
    "            src= os.path.join(original_dataset_dir, fname)\n",
    "            dst=os.path.join(validation_homme_dir, fname)\n",
    "            shutil.copyfile(src, dst)\n",
    "        else:\n",
    "            src= os.path.join(original_dataset_dir, fname)\n",
    "            dst=os.path.join(validation_femme_dir, fname)\n",
    "            shutil.copyfile(src, dst)\n",
    "    "
   ]
  },
  {
   "cell_type": "code",
   "execution_count": 95,
   "metadata": {},
   "outputs": [],
   "source": [
    "for i in range(960,1200):\n",
    "    fname='img'+nom[i]+'_T1w.png'\n",
    "    src= os.path.join(original_dataset_dir, fname)\n",
    "    if os.path.isfile(src)==True:\n",
    "        if sexe[i]=='1':\n",
    "            src= os.path.join(original_dataset_dir, fname)\n",
    "            dst=os.path.join(test_homme_dir, fname)\n",
    "            shutil.copyfile(src, dst)\n",
    "        else:\n",
    "            src= os.path.join(original_dataset_dir, fname)\n",
    "            dst=os.path.join(test_femme_dir, fname)\n",
    "            shutil.copyfile(src, dst)\n",
    "    "
   ]
  },
  {
   "cell_type": "code",
   "execution_count": 96,
   "metadata": {},
   "outputs": [],
   "source": [
    "from keras.preprocessing.image import ImageDataGenerator"
   ]
  },
  {
   "cell_type": "code",
   "execution_count": 97,
   "metadata": {},
   "outputs": [
    {
     "name": "stdout",
     "output_type": "stream",
     "text": [
      "Found 665 images belonging to 2 classes.\n",
      "Found 141 images belonging to 2 classes.\n"
     ]
    }
   ],
   "source": [
    "train_datagen= ImageDataGenerator(rescale=1./255)\n",
    "test_datagen= ImageDataGenerator(rescale=1./255)\n",
    "\n",
    "\n",
    "train_generator= train_datagen.flow_from_directory(train_dir, target_size=(150,150), batch_size= 20, class_mode='binary')\n",
    "\n",
    "validation_generator= test_datagen.flow_from_directory(validation_dir, target_size=(150,150), batch_size=20, class_mode='binary')"
   ]
  },
  {
   "cell_type": "code",
   "execution_count": 98,
   "metadata": {},
   "outputs": [
    {
     "name": "stdout",
     "output_type": "stream",
     "text": [
      "WARNING:tensorflow:From C:\\Users\\eiser\\anaconda3\\lib\\site-packages\\keras\\backend\\tensorflow_backend.py:422: The name tf.global_variables is deprecated. Please use tf.compat.v1.global_variables instead.\n",
      "\n",
      "Epoch 1/30\n",
      "100/100 [==============================] - 48s 481ms/step - loss: 0.4557 - acc: 0.7847 - val_loss: 0.2116 - val_acc: 0.8025\n",
      "Epoch 2/30\n",
      "100/100 [==============================] - 48s 479ms/step - loss: 0.2835 - acc: 0.8895 - val_loss: 0.2367 - val_acc: 0.9458\n",
      "Epoch 3/30\n",
      "100/100 [==============================] - 48s 483ms/step - loss: 0.2228 - acc: 0.9081 - val_loss: 0.1089 - val_acc: 0.9673\n",
      "Epoch 4/30\n",
      "100/100 [==============================] - 48s 479ms/step - loss: 0.1669 - acc: 0.9325 - val_loss: 0.0010 - val_acc: 0.8212\n",
      "Epoch 5/30\n",
      "100/100 [==============================] - 48s 482ms/step - loss: 0.1255 - acc: 0.9503 - val_loss: 0.0361 - val_acc: 0.9865\n",
      "Epoch 6/30\n",
      "100/100 [==============================] - 51s 506ms/step - loss: 0.0825 - acc: 0.9711 - val_loss: 0.1493 - val_acc: 0.9774\n",
      "Epoch 7/30\n",
      "100/100 [==============================] - 51s 512ms/step - loss: 0.0703 - acc: 0.9731 - val_loss: 0.1052 - val_acc: 0.9718\n",
      "Epoch 8/30\n",
      "100/100 [==============================] - 49s 494ms/step - loss: 0.0471 - acc: 0.9857 - val_loss: 0.0449 - val_acc: 0.9862\n",
      "Epoch 9/30\n",
      "100/100 [==============================] - 49s 485ms/step - loss: 0.0347 - acc: 0.9903 - val_loss: 0.0269 - val_acc: 0.9786\n",
      "Epoch 10/30\n",
      "100/100 [==============================] - 49s 490ms/step - loss: 0.0173 - acc: 0.9979 - val_loss: 0.0404 - val_acc: 0.9797\n",
      "Epoch 11/30\n",
      "100/100 [==============================] - 49s 490ms/step - loss: 0.0208 - acc: 0.9934 - val_loss: 0.0223 - val_acc: 0.9707\n",
      "Epoch 12/30\n",
      "100/100 [==============================] - 49s 494ms/step - loss: 0.0086 - acc: 0.9975 - val_loss: 7.5382e-04 - val_acc: 0.9850\n",
      "Epoch 13/30\n",
      "100/100 [==============================] - 48s 476ms/step - loss: 0.0085 - acc: 0.9990 - val_loss: 0.0123 - val_acc: 0.9865\n",
      "Epoch 14/30\n",
      "100/100 [==============================] - 49s 490ms/step - loss: 0.0096 - acc: 0.9954 - val_loss: 0.0016 - val_acc: 0.9842\n",
      "Epoch 15/30\n",
      "100/100 [==============================] - 49s 488ms/step - loss: 0.0064 - acc: 0.9980 - val_loss: 8.2503e-04 - val_acc: 0.9876\n",
      "Epoch 16/30\n",
      "100/100 [==============================] - 49s 492ms/step - loss: 0.0033 - acc: 0.9990 - val_loss: 3.6602e-12 - val_acc: 0.9781\n",
      "Epoch 17/30\n",
      "100/100 [==============================] - 48s 482ms/step - loss: 0.0044 - acc: 0.9980 - val_loss: 0.1119 - val_acc: 0.9853\n",
      "Epoch 18/30\n",
      "100/100 [==============================] - 48s 483ms/step - loss: 0.0022 - acc: 0.9995 - val_loss: 0.0029 - val_acc: 0.9853\n",
      "Epoch 19/30\n",
      "100/100 [==============================] - 49s 492ms/step - loss: 0.0026 - acc: 0.9990 - val_loss: 2.2421e-04 - val_acc: 0.9876\n",
      "Epoch 20/30\n",
      "100/100 [==============================] - 49s 493ms/step - loss: 0.0026 - acc: 0.9980 - val_loss: 1.3282e-06 - val_acc: 0.9850\n",
      "Epoch 21/30\n",
      "100/100 [==============================] - 48s 481ms/step - loss: 0.0012 - acc: 0.9995 - val_loss: 3.3240e-05 - val_acc: 0.9853\n",
      "Epoch 22/30\n",
      "100/100 [==============================] - 50s 496ms/step - loss: 0.0063 - acc: 0.9985 - val_loss: 0.0833 - val_acc: 0.9865\n",
      "Epoch 23/30\n",
      "100/100 [==============================] - 50s 495ms/step - loss: 0.0017 - acc: 0.9990 - val_loss: 1.1406e-04 - val_acc: 0.9932\n",
      "Epoch 24/30\n",
      "100/100 [==============================] - 50s 497ms/step - loss: 0.0061 - acc: 0.9985 - val_loss: 0.0181 - val_acc: 0.9919\n",
      "Epoch 25/30\n",
      "100/100 [==============================] - 48s 484ms/step - loss: 0.0014 - acc: 0.9995 - val_loss: 0.0135 - val_acc: 0.9774\n",
      "Epoch 26/30\n",
      "100/100 [==============================] - 48s 482ms/step - loss: 6.2453e-04 - acc: 1.0000 - val_loss: 0.0154 - val_acc: 0.9876\n",
      "Epoch 27/30\n",
      "100/100 [==============================] - 48s 478ms/step - loss: 0.0023 - acc: 0.9995 - val_loss: 0.0194 - val_acc: 0.9932\n",
      "Epoch 28/30\n",
      "100/100 [==============================] - 51s 506ms/step - loss: 5.7075e-05 - acc: 1.0000 - val_loss: 2.8669e-10 - val_acc: 0.9931\n",
      "Epoch 29/30\n",
      "100/100 [==============================] - 49s 488ms/step - loss: 0.0030 - acc: 0.9995 - val_loss: 1.9433e-04 - val_acc: 0.9932\n",
      "Epoch 30/30\n",
      "100/100 [==============================] - 49s 488ms/step - loss: 0.0067 - acc: 0.9990 - val_loss: 0.3857 - val_acc: 0.9842\n"
     ]
    }
   ],
   "source": [
    "history= model.fit_generator(train_generator,steps_per_epoch=100, epochs=30,\n",
    "                             validation_data=validation_generator, validation_steps=50)"
   ]
  },
  {
   "cell_type": "code",
   "execution_count": 101,
   "metadata": {},
   "outputs": [
    {
     "data": {
      "image/png": "[encoded data removed]",
      "text/plain": [
       "<Figure size 432x288 with 1 Axes>"
      ]
     },
     "metadata": {
      "needs_background": "light"
     },
     "output_type": "display_data"
    },
    {
     "data": {
      "image/png": "[encoded data removed]",
      "text/plain": [
       "<Figure size 432x288 with 1 Axes>"
      ]
     },
     "metadata": {
      "needs_background": "light"
     },
     "output_type": "display_data"
    }
   ],
   "source": [
    "import matplotlib.pyplot as plt\n",
    "\n",
    "acc= history.history['acc']\n",
    "val_acc = history.history['val_acc']\n",
    "loss= history.history['loss']\n",
    "val_loss= history.history['val_loss']\n",
    "\n",
    "epochs= range(1, len(acc)+1)\n",
    "\n",
    "plt.plot(epochs, acc, 'bo', label='entrainement')\n",
    "plt.plot(epochs, val_acc,'b', label='validation')\n",
    "plt.title('Exactititude pendant l\\'entrainement et la validation')\n",
    "plt.legend()\n",
    "\n",
    "plt.figure()\n",
    "plt.plot(epochs, loss, 'bo', label='entrainement')\n",
    "plt.plot(epochs, val_loss, 'b', label='validation')\n",
    "plt.title('Perte pendant l\\'entrainement et la validation')\n",
    "plt.legend()\n",
    "plt.show()"
   ]
  },
  {
   "cell_type": "code",
   "execution_count": 102,
   "metadata": {},
   "outputs": [
    {
     "name": "stdout",
     "output_type": "stream",
     "text": [
      "Found 203 images belonging to 2 classes.\n"
     ]
    }
   ],
   "source": [
    "test_generator= test_datagen.flow_from_directory(test_dir, target_size=(150,150), batch_size= 20, class_mode='binary')\n",
    "\n"
   ]
  },
  {
   "cell_type": "code",
   "execution_count": 103,
   "metadata": {},
   "outputs": [],
   "source": [
    "test_loss, test_acc= model.evaluate_generator(test_generator, steps=50)"
   ]
  },
  {
   "cell_type": "code",
   "execution_count": 104,
   "metadata": {},
   "outputs": [
    {
     "name": "stdout",
     "output_type": "stream",
     "text": [
      "0.371433824300766 0.9603004455566406\n"
     ]
    }
   ],
   "source": [
    "print(test_loss, test_acc)"
   ]
  },
  {
   "cell_type": "code",
   "execution_count": null,
   "metadata": {},
   "outputs": [],
   "source": []
  }
 ],
 "metadata": {
  "kernelspec": {
   "display_name": "Python 3",
   "language": "python",
   "name": "python3"
  },
  "language_info": {
   "codemirror_mode": {
    "name": "ipython",
    "version": 3
   },
   "file_extension": ".py",
   "mimetype": "text/x-python",
   "name": "python",
   "nbconvert_exporter": "python",
   "pygments_lexer": "ipython3",
   "version": "3.7.4"
  }
 },
 "nbformat": 4,
 "nbformat_minor": 4
}
